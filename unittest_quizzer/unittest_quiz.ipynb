{
 "cells": [
  {
   "cell_type": "code",
   "execution_count": 1,
   "id": "2303b660",
   "metadata": {
    "ExecuteTime": {
     "end_time": "2023-12-06T21:04:46.592713Z",
     "start_time": "2023-12-06T21:04:46.584344Z"
    }
   },
   "outputs": [
    {
     "name": "stdout",
     "output_type": "stream",
     "text": [
      "/Users/apple-b/Desktop/ubco_mds/data533/Quizzer\n"
     ]
    }
   ],
   "source": [
    "cd .."
   ]
  },
  {
   "cell_type": "code",
   "execution_count": 13,
   "id": "a9aab7d2",
   "metadata": {
    "ExecuteTime": {
     "end_time": "2023-12-06T21:16:45.964818Z",
     "start_time": "2023-12-06T21:16:45.960399Z"
    }
   },
   "outputs": [],
   "source": [
    "import os\n",
    "import glob\n",
    "import unittest\n",
    "from quizutils.quiz import Quiz, Question, QuestionMC, QuestionTF, Answer\n",
    "from quizutils.quizparser import JSONQuizParser"
   ]
  },
  {
   "cell_type": "code",
   "execution_count": 59,
   "id": "698698c6",
   "metadata": {
    "ExecuteTime": {
     "end_time": "2023-12-06T22:07:22.539717Z",
     "start_time": "2023-12-06T22:07:22.511025Z"
    }
   },
   "outputs": [
    {
     "name": "stderr",
     "output_type": "stream",
     "text": [
      "test_cal_score (__main__.TestQuiz) ... ok\n",
      "test_print_header (__main__.TestQuiz) ... ok\n",
      "test_print_results (__main__.TestQuiz) ... ERROR\n",
      "test_take_quiz (__main__.TestQuiz) ... "
     ]
    },
    {
     "name": "stdout",
     "output_type": "stream",
     "text": [
      "Starting test: TestQuiz\n",
      "setUp\n",
      "tearDown\n",
      "setUp\n",
      "\n",
      "\n",
      " ********************************************\n",
      "QUIZ NAME: Computer Vocabulary Quiz\n",
      "DESCRIPTION: This is a sample quiz\n",
      "QUESTIONS: 1/10\n",
      "TOTAL POINTS: 10\n",
      "******************************************** \n",
      "\n",
      "tearDown\n",
      "setUp\n",
      "[1, 1, 1, 1, 1, 1, 1, 1, 1, 1]\n",
      "******************************************** \n",
      "\n",
      "RESULTS for TestName\n",
      "Date: 2023-12-06 14:07:22.533088\n",
      "QUESTIONS: 1 out of 10 correct\n",
      "SCORE: 1.00 points of possible 10.00\n",
      "SCORE EXTRA: 1.00 points\n",
      "TOTAL SCORE: 1.00 points\n",
      "******************************************** \n",
      "\n",
      "\n",
      "\n",
      "************** Result Details ************** \n",
      "\n",
      "Question: A computer program is a piece of\n",
      "Correct Answer: software\n",
      "Your Answer: \tNone\n",
      "tearDown\n",
      "setUp\n",
      "tearDown\n",
      "Finished test: TestQuiz\n"
     ]
    },
    {
     "name": "stderr",
     "output_type": "stream",
     "text": [
      "ok\n",
      "\n",
      "======================================================================\n",
      "ERROR: test_print_results (__main__.TestQuiz)\n",
      "----------------------------------------------------------------------\n",
      "Traceback (most recent call last):\n",
      "  File \"/var/folders/8y/pz7j2fcs17q_j4xz5yspd4qc0000gn/T/ipykernel_5066/624581904.py\", line 70, in test_print_results\n",
      "    quiz_obj.print_results(self.quiztaker)\n",
      "  File \"/Users/apple-b/Desktop/ubco_mds/data533/Quizzer/quizutils/quiz.py\", line 106, in print_results\n",
      "    print(f\"Time Spending: \\t{self.list_time_used[idx]:.02f} seconds\", file=thefile)\n",
      "IndexError: list index out of range\n",
      "\n",
      "----------------------------------------------------------------------\n",
      "Ran 4 tests in 0.012s\n",
      "\n",
      "FAILED (errors=1)\n"
     ]
    },
    {
     "data": {
      "text/plain": [
       "<unittest.main.TestProgram at 0x1204c5790>"
      ]
     },
     "execution_count": 59,
     "metadata": {},
     "output_type": "execute_result"
    }
   ],
   "source": [
    "class TestQuiz(unittest.TestCase):\n",
    "    \n",
    "    @classmethod\n",
    "    def setUpClass(cls):\n",
    "        print('Starting test: TestQuiz')\n",
    "\n",
    "    \n",
    "    @classmethod\n",
    "    def tearDownClass(cls):\n",
    "        print('Finished test: TestQuiz')\n",
    "\n",
    "        \n",
    "    def setUp(self):\n",
    "        print(\"setUp\")\n",
    "        \n",
    "        path_json_filename = os.path.join(os.getcwd(), 'db_quizzes')\n",
    "        self.jsonfile_path = path_json_filename\n",
    "        pattern = os.path.join(self.jsonfile_path, '*.json')\n",
    "        self.jsonfiles = glob.glob(pattern)\n",
    "\n",
    "        self.quizzes = {}\n",
    "        for i, f in enumerate(self.jsonfiles):\n",
    "            parser = JSONQuizParser()\n",
    "            self.quizzes[i + 1] = parser.parse_quiz(f)\n",
    "        \n",
    "        self.quiztaker = \"TestName\"\n",
    "#         self.the_quiz = self.quizzes[quizid]\n",
    "#         self.results = self.the_quiz.take_quiz()\n",
    "        \n",
    "        \n",
    "    def tearDown(self):\n",
    "        print(\"tearDown\")\n",
    "        \n",
    "        \n",
    "    def test_print_header(self):\n",
    "        no_min_quize = min(self.quizzes)\n",
    "#         no_max_quize = max(self.quizzes)  # if want to test all quiz objects\n",
    "        no_max_quize = 1\n",
    "        for idx in range(no_min_quize, no_max_quize+1):\n",
    "            quiz_obj = self.quizzes[idx]\n",
    "\n",
    "            for qidx, q in enumerate(quiz_obj.questions[:1]):\n",
    "                quiz_obj.print_header(qidx)\n",
    "            \n",
    "#         self.quiz_obj.score = 0 \n",
    "#         self.quiz_obj.correct_count = 0 \n",
    "#         self.quiz_obj.time_start = time.time() \n",
    "#         for idx, q in enumerate(self.quiz_obj.questions): \n",
    "#             q.is_correct = False \n",
    "#             self.print_header(idx) \n",
    "            \n",
    "            \n",
    "    def test_print_results(self):\n",
    "        no_min_quize = min(self.quizzes)\n",
    "#         no_max_quize = max(self.quizzes)  # if want to test all quiz objects\n",
    "        no_max_quize = 1\n",
    "        for idx in range(no_min_quize, no_max_quize+1):\n",
    "            quiz_obj = self.quizzes[idx]\n",
    "            quiz_obj.correct_count = 1\n",
    "            quiz_obj.quiz_score = 1\n",
    "            quiz_obj.quiz_score_ext = 1\n",
    "            quiz_obj.quiz_score_final = 1\n",
    "\n",
    "            quiz_obj.list_score_ext = []\n",
    "            quiz_obj.list_score_final = []\n",
    "            for qidx, q in enumerate(quiz_obj.questions):\n",
    "                q.text = \"Test\"\n",
    "                quiz_obj.list_score_ext.append(1)\n",
    "                quiz_obj.list_score_final.append(1)\n",
    "            print(quiz_obj.list_score_ext)\n",
    "            quiz_obj.print_results(self.quiztaker)\n",
    "        \n",
    "    def test_take_quiz(self):\n",
    "        pass\n",
    "        \n",
    "    def test_cal_score(self):\n",
    "        pass\n",
    "    \n",
    "    \n",
    "unittest.main(argv=[''], verbosity=2, exit=False)"
   ]
  },
  {
   "cell_type": "code",
   "execution_count": null,
   "id": "5244743b",
   "metadata": {},
   "outputs": [],
   "source": []
  }
 ],
 "metadata": {
  "kernelspec": {
   "display_name": "Python 3 (ipykernel)",
   "language": "python",
   "name": "python3"
  },
  "language_info": {
   "codemirror_mode": {
    "name": "ipython",
    "version": 3
   },
   "file_extension": ".py",
   "mimetype": "text/x-python",
   "name": "python",
   "nbconvert_exporter": "python",
   "pygments_lexer": "ipython3",
   "version": "3.9.6"
  },
  "toc": {
   "base_numbering": 1,
   "nav_menu": {},
   "number_sections": true,
   "sideBar": true,
   "skip_h1_title": false,
   "title_cell": "Table of Contents",
   "title_sidebar": "Contents",
   "toc_cell": false,
   "toc_position": {},
   "toc_section_display": true,
   "toc_window_display": false
  }
 },
 "nbformat": 4,
 "nbformat_minor": 5
}
