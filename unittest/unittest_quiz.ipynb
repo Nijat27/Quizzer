{
 "cells": [
  {
   "cell_type": "code",
   "execution_count": 2,
   "id": "2303b660",
   "metadata": {
    "ExecuteTime": {
     "end_time": "2023-12-04T22:07:15.800969Z",
     "start_time": "2023-12-04T22:07:15.795697Z"
    }
   },
   "outputs": [
    {
     "name": "stdout",
     "output_type": "stream",
     "text": [
      "/Users/apple-b/Desktop/ubco_mds/data533/Quizzer\n"
     ]
    }
   ],
   "source": [
    "cd .."
   ]
  },
  {
   "cell_type": "code",
   "execution_count": 3,
   "id": "a9aab7d2",
   "metadata": {
    "ExecuteTime": {
     "end_time": "2023-12-04T22:07:49.817751Z",
     "start_time": "2023-12-04T22:07:49.813070Z"
    }
   },
   "outputs": [],
   "source": [
    "import unittest\n",
    "from quizutils.quiz import Quiz, Question, QuestionMC, QuestionTF, Answer\n",
    "\n",
    "# class TestCal(unittest.TestCase):\n",
    "#     def test_multiplication(self):\n",
    "#         self.assertEqual(cal.multiplication(10, 10), 100)\n",
    "#         self.assertEqual(cal.multiplication(10, -1), -10)\n",
    "#         self.assertEqual(cal.multiplication(0, 10), 0)\n",
    "        \n",
    "#     def test_division(self):\n",
    "#         self.assertEqual(cal.division(10, 10), 1)\n",
    "#         self.assertEqual(cal.division(10, -1), -10)\n",
    "#         self.assertEqual(cal.division(1, 10), 0.1)\n",
    "# unittest.main(argv=[''], verbosity=2, exit=False)"
   ]
  },
  {
   "cell_type": "code",
   "execution_count": null,
   "id": "5244743b",
   "metadata": {},
   "outputs": [],
   "source": []
  }
 ],
 "metadata": {
  "kernelspec": {
   "display_name": "Python 3 (ipykernel)",
   "language": "python",
   "name": "python3"
  },
  "language_info": {
   "codemirror_mode": {
    "name": "ipython",
    "version": 3
   },
   "file_extension": ".py",
   "mimetype": "text/x-python",
   "name": "python",
   "nbconvert_exporter": "python",
   "pygments_lexer": "ipython3",
   "version": "3.9.6"
  },
  "toc": {
   "base_numbering": 1,
   "nav_menu": {},
   "number_sections": true,
   "sideBar": true,
   "skip_h1_title": false,
   "title_cell": "Table of Contents",
   "title_sidebar": "Contents",
   "toc_cell": false,
   "toc_position": {},
   "toc_section_display": true,
   "toc_window_display": false
  }
 },
 "nbformat": 4,
 "nbformat_minor": 5
}
