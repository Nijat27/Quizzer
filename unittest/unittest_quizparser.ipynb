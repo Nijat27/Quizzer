{
 "cells": [
  {
   "cell_type": "code",
   "execution_count": 1,
   "id": "05c22d47",
   "metadata": {
    "ExecuteTime": {
     "end_time": "2023-12-04T23:21:31.174398Z",
     "start_time": "2023-12-04T23:21:31.168118Z"
    }
   },
   "outputs": [
    {
     "name": "stdout",
     "output_type": "stream",
     "text": [
      "/Users/apple-b/Desktop/ubco_mds/data533/Quizzer\n"
     ]
    }
   ],
   "source": [
    "cd .."
   ]
  },
  {
   "cell_type": "code",
   "execution_count": 2,
   "id": "6749fbac",
   "metadata": {
    "ExecuteTime": {
     "end_time": "2023-12-04T23:21:31.402373Z",
     "start_time": "2023-12-04T23:21:31.397557Z"
    }
   },
   "outputs": [],
   "source": [
    "import os\n",
    "import glob"
   ]
  },
  {
   "cell_type": "code",
   "execution_count": 3,
   "id": "65d9a145",
   "metadata": {
    "ExecuteTime": {
     "end_time": "2023-12-04T23:21:31.603662Z",
     "start_time": "2023-12-04T23:21:31.591189Z"
    }
   },
   "outputs": [],
   "source": [
    "import unittest\n",
    "from quizutils.quizparser import JSONQuizParser\n",
    "\n",
    "# class TestCal(unittest.TestCase):\n",
    "#     def test_multiplication(self):\n",
    "#         self.assertEqual(cal.multiplication(10, 10), 100)\n",
    "#         self.assertEqual(cal.multiplication(10, -1), -10)\n",
    "#         self.assertEqual(cal.multiplication(0, 10), 0)\n",
    "        \n",
    "#     def test_division(self):\n",
    "#         self.assertEqual(cal.division(10, 10), 1)\n",
    "#         self.assertEqual(cal.division(10, -1), -10)\n",
    "#         self.assertEqual(cal.division(1, 10), 0.1)\n",
    "# unittest.main(argv=[''], verbosity=2, exit=False)"
   ]
  },
  {
   "cell_type": "code",
   "execution_count": 4,
   "id": "2d33dc0e",
   "metadata": {
    "ExecuteTime": {
     "end_time": "2023-12-04T23:21:31.778292Z",
     "start_time": "2023-12-04T23:21:31.774995Z"
    }
   },
   "outputs": [],
   "source": [
    "# [12 marks] Create at least four test classes (in separate files) \n",
    "# for the four modules that you developed in project step 1.\n",
    "\n",
    "# [8 marks] Each test class should have at least two test cases \n",
    "# and each test case should contain at least four assertion statements.\n",
    "\n",
    "# [4 marks] Each test class should use the \n",
    "# setup(), tearDown(), setUpClass(cls), and tearDownClass(cls) methods to initialize values appropriately.\n"
   ]
  },
  {
   "cell_type": "code",
   "execution_count": 38,
   "id": "220e3975",
   "metadata": {
    "ExecuteTime": {
     "end_time": "2023-12-04T23:33:15.625993Z",
     "start_time": "2023-12-04T23:33:15.599555Z"
    }
   },
   "outputs": [
    {
     "name": "stderr",
     "output_type": "stream",
     "text": [
      "test_create_question_obj (__main__.TestQuizParser) ... ok\n",
      "test_import_data (__main__.TestQuizParser) ... ok\n",
      "test_parse_quiz (__main__.TestQuizParser) ... "
     ]
    },
    {
     "name": "stdout",
     "output_type": "stream",
     "text": [
      "Starting test: TestQuizParser\n",
      "setUp\n",
      "A computer program is a piece of\n",
      "software\n",
      "False\n",
      "A computer program is a piece of\n",
      "A computer program is a piece of\n",
      "[<quizutils.quiz.Answer object at 0x109306310>, <quizutils.quiz.Answer object at 0x1093061f0>, <quizutils.quiz.Answer object at 0x109306250>]\n",
      "tearDown\n",
      "setUp\n",
      "tearDown\n",
      "setUp\n",
      "tearDown\n",
      "Finished test: TestQuizParser\n"
     ]
    },
    {
     "name": "stderr",
     "output_type": "stream",
     "text": [
      "ok\n",
      "\n",
      "----------------------------------------------------------------------\n",
      "Ran 3 tests in 0.006s\n",
      "\n",
      "OK\n"
     ]
    },
    {
     "data": {
      "text/plain": [
       "<unittest.main.TestProgram at 0x10952de80>"
      ]
     },
     "execution_count": 38,
     "metadata": {},
     "output_type": "execute_result"
    }
   ],
   "source": [
    "class TestQuizParser(unittest.TestCase):\n",
    "\n",
    "        \n",
    "    @classmethod\n",
    "    def setUpClass(cls):\n",
    "        print('Starting test: TestQuizParser')\n",
    "\n",
    "    \n",
    "    @classmethod\n",
    "    def tearDownClass(cls):\n",
    "        print('Finished test: TestQuizParser')\n",
    "    \n",
    "    \n",
    "    def setUp(self):\n",
    "        print(\"setUp\")\n",
    "        path_json_filename = os.path.join(os.getcwd(), 'db_quizzes')\n",
    "        self.jsonfile_path = path_json_filename\n",
    "        pattern = os.path.join(self.jsonfile_path, '*.json')\n",
    "        self.jsonfiles = glob.glob(pattern)\n",
    "    \n",
    "    \n",
    "    def tearDown(self):\n",
    "        print(\"tearDown\")\n",
    "        \n",
    "    \n",
    "    def test_import_data(self):\n",
    "        \n",
    "        for idx, jsonfile in enumerate(self.jsonfiles):\n",
    "            parser = JSONQuizParser()\n",
    "            data = parser.import_data(jsonfile)\n",
    "#             print(jsonfile)\n",
    "            list_key = list(data.keys())\n",
    "            list_key.sort()\n",
    "            list_check_data = ['category', 'description', 'questions', 'quizname']\n",
    "\n",
    "            # main\n",
    "            self.assertListEqual(list_key, list_check_data)  # check imported data has same keys\n",
    "            self.assertEqual(len(list_key), 4)  # check # of keys in the imported data\n",
    "\n",
    "            # each question\n",
    "            for q in data['questions']:\n",
    "                list_choices = list(q['choices'].values())\n",
    "                self.assertIn(q['type'], ['mc', 'tf'])  # check question type must has mc or tf\n",
    "                self.assertEqual(q['points'].isnumeric(), True)  # check point can be convert to numeric\n",
    "                self.assertGreater(len(q['text']), 0)  # check object has question text \n",
    "                self.assertIn(q['answer'], list_choices)  # check corrected answer is available in the list of choices\n",
    "                \n",
    "    \n",
    "    def test_create_question_obj(self):\n",
    "        for idx, jsonfile in enumerate(self.jsonfiles[:1]):\n",
    "            parser = JSONQuizParser()\n",
    "            data = parser.import_data(jsonfile)\n",
    "\n",
    "            for quest in data['questions'][:1]:\n",
    "                quest_obj = parser.create_question_obj(quest)\n",
    "\n",
    "                print(quest_obj.text)\n",
    "                print(quest_obj.correct_answer)\n",
    "                print(quest_obj.points)\n",
    "                print(quest_obj.is_correct)\n",
    "                print(quest_obj.log_response)\n",
    "                print(quest_obj.log_time_at_res)\n",
    "                \n",
    "#                 print(quest_obj.answers)    \n",
    "#                 print(quest_obj.ask)    \n",
    "    \n",
    "    def test_parse_quiz(self):\n",
    "        pass\n",
    "    \n",
    "    \n",
    "    \n",
    "unittest.main(argv=[''], verbosity=2, exit=False)"
   ]
  },
  {
   "cell_type": "code",
   "execution_count": null,
   "id": "fc89716a",
   "metadata": {},
   "outputs": [],
   "source": []
  },
  {
   "cell_type": "code",
   "execution_count": null,
   "id": "f0eac942",
   "metadata": {},
   "outputs": [],
   "source": []
  }
 ],
 "metadata": {
  "kernelspec": {
   "display_name": "Python 3 (ipykernel)",
   "language": "python",
   "name": "python3"
  },
  "language_info": {
   "codemirror_mode": {
    "name": "ipython",
    "version": 3
   },
   "file_extension": ".py",
   "mimetype": "text/x-python",
   "name": "python",
   "nbconvert_exporter": "python",
   "pygments_lexer": "ipython3",
   "version": "3.9.6"
  },
  "toc": {
   "base_numbering": 1,
   "nav_menu": {},
   "number_sections": true,
   "sideBar": true,
   "skip_h1_title": false,
   "title_cell": "Table of Contents",
   "title_sidebar": "Contents",
   "toc_cell": false,
   "toc_position": {},
   "toc_section_display": true,
   "toc_window_display": false
  }
 },
 "nbformat": 4,
 "nbformat_minor": 5
}
