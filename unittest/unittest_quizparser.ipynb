{
 "cells": [
  {
   "cell_type": "code",
   "execution_count": 2,
   "id": "05c22d47",
   "metadata": {
    "ExecuteTime": {
     "end_time": "2023-12-06T17:20:34.887429Z",
     "start_time": "2023-12-06T17:20:34.881109Z"
    }
   },
   "outputs": [
    {
     "name": "stdout",
     "output_type": "stream",
     "text": [
      "/Users/apple-b/Desktop/ubco_mds/data533/Quizzer\n"
     ]
    }
   ],
   "source": [
    "cd .."
   ]
  },
  {
   "cell_type": "code",
   "execution_count": 3,
   "id": "6749fbac",
   "metadata": {
    "ExecuteTime": {
     "end_time": "2023-12-06T17:20:35.044382Z",
     "start_time": "2023-12-06T17:20:35.025765Z"
    }
   },
   "outputs": [],
   "source": [
    "import os\n",
    "import glob\n",
    "\n",
    "import unittest\n",
    "from quizutils.quizparser import JSONQuizParser\n",
    "from quizutils.quiz import Question, Answer, QuestionMC, QuestionTF\n"
   ]
  },
  {
   "cell_type": "code",
   "execution_count": 4,
   "id": "2d33dc0e",
   "metadata": {
    "ExecuteTime": {
     "end_time": "2023-12-06T17:20:35.258749Z",
     "start_time": "2023-12-06T17:20:35.255427Z"
    }
   },
   "outputs": [],
   "source": [
    "# [8 marks] Each test class should have at least two test cases \n",
    "# and each test case should contain at least four assertion statements.\n",
    "\n",
    "# [4 marks] Each test class should use the \n",
    "# setup(), tearDown(), setUpClass(cls), and tearDownClass(cls) methods to initialize values appropriately.\n"
   ]
  },
  {
   "cell_type": "code",
   "execution_count": 22,
   "id": "220e3975",
   "metadata": {
    "ExecuteTime": {
     "end_time": "2023-12-06T17:33:20.764582Z",
     "start_time": "2023-12-06T17:33:20.733880Z"
    }
   },
   "outputs": [
    {
     "name": "stderr",
     "output_type": "stream",
     "text": [
      "test_create_question_obj (__main__.TestQuizParser) ... ok\n",
      "test_import_data (__main__.TestQuizParser) ... ok\n",
      "test_parse_quiz (__main__.TestQuizParser) ... "
     ]
    },
    {
     "name": "stdout",
     "output_type": "stream",
     "text": [
      "Starting test: TestQuizParser\n",
      "setUp\n",
      "tearDown\n",
      "setUp\n",
      "tearDown\n",
      "setUp\n",
      "tearDown\n",
      "Finished test: TestQuizParser\n"
     ]
    },
    {
     "name": "stderr",
     "output_type": "stream",
     "text": [
      "ok\n",
      "\n",
      "----------------------------------------------------------------------\n",
      "Ran 3 tests in 0.008s\n",
      "\n",
      "OK\n"
     ]
    },
    {
     "data": {
      "text/plain": [
       "<unittest.main.TestProgram at 0x105c3b970>"
      ]
     },
     "execution_count": 22,
     "metadata": {},
     "output_type": "execute_result"
    }
   ],
   "source": [
    "class TestQuizParser(unittest.TestCase):\n",
    "\n",
    "        \n",
    "    @classmethod\n",
    "    def setUpClass(cls):\n",
    "        print('Starting test: TestQuizParser')\n",
    "\n",
    "    \n",
    "    @classmethod\n",
    "    def tearDownClass(cls):\n",
    "        print('Finished test: TestQuizParser')\n",
    "    \n",
    "    \n",
    "    def setUp(self):\n",
    "        print(\"setUp\")\n",
    "        path_json_filename = os.path.join(os.getcwd(), 'db_quizzes')\n",
    "        self.jsonfile_path = path_json_filename\n",
    "        pattern = os.path.join(self.jsonfile_path, '*.json')\n",
    "        self.jsonfiles = glob.glob(pattern)\n",
    "    \n",
    "    \n",
    "    def tearDown(self):\n",
    "        print(\"tearDown\")\n",
    "        \n",
    "    \n",
    "    def test_import_data(self):\n",
    "        \n",
    "        for idx, jsonfile in enumerate(self.jsonfiles):\n",
    "            parser = JSONQuizParser()\n",
    "            data = parser.import_data(jsonfile)\n",
    "#             print(jsonfile)\n",
    "            list_key = list(data.keys())\n",
    "            list_key.sort()\n",
    "            list_check_data = ['category', 'description', 'questions', 'quizname']\n",
    "\n",
    "            # main\n",
    "            self.assertListEqual(list_key, list_check_data)  # check imported data has same keys\n",
    "            self.assertEqual(len(list_key), 4)  # check # of keys in the imported data\n",
    "\n",
    "            # each question\n",
    "            for q in data['questions']:\n",
    "                list_choices = list(q['choices'].values())\n",
    "                self.assertIn(q['type'], ['mc', 'tf'])  # check question type must has mc or tf\n",
    "                self.assertEqual(q['points'].isnumeric(), True)  # check point can be convert to numeric\n",
    "                self.assertGreater(len(q['text']), 0)  # check object has question text \n",
    "                self.assertIn(q['answer'], list_choices)  # check corrected answer is available in the list of choices\n",
    "                \n",
    "    \n",
    "    def test_create_question_obj(self):\n",
    "        for idx, jsonfile in enumerate(self.jsonfiles):\n",
    "            parser = JSONQuizParser()\n",
    "            data = parser.import_data(jsonfile)\n",
    "\n",
    "            for quest in data['questions']:\n",
    "                quest_obj = parser.create_question_obj(quest)\n",
    "\n",
    "                if quest['type']==\"mc\":\n",
    "                    self.assertIsInstance(quest_obj, QuestionMC)\n",
    "                else :\n",
    "                    self.assertIsInstance(quest_obj, QuestionTF)\n",
    "                    \n",
    "                self.assertIsNotNone(quest_obj.text)\n",
    "                self.assertIsNotNone(quest_obj.correct_answer)\n",
    "                self.assertIsNotNone(quest_obj.points)\n",
    "                self.assertIsNotNone(quest_obj.is_correct)\n",
    "                self.assertIsNone(quest_obj.log_response)\n",
    "                self.assertIsNone(quest_obj.log_time_at_res)\n",
    "                \n",
    "    \n",
    "    def test_parse_quiz(self):\n",
    "        for idx, jsonfile in enumerate(self.jsonfiles[:1]):\n",
    "\n",
    "            parser = JSONQuizParser()\n",
    "            quiz_obj = parser.parse_quiz(jsonfile)\n",
    "            self.assertIsNotNone(quiz_obj.name)\n",
    "            self.assertIsNotNone(quiz_obj.description)\n",
    "\n",
    "            self.assertEqual(type(quiz_obj.total_points), int)\n",
    "            self.assertGreater(len(quiz_obj.questions), 0)\n",
    "            \n",
    "    \n",
    "unittest.main(argv=[''], verbosity=2, exit=False)"
   ]
  },
  {
   "cell_type": "code",
   "execution_count": null,
   "id": "cce75737",
   "metadata": {},
   "outputs": [],
   "source": []
  }
 ],
 "metadata": {
  "kernelspec": {
   "display_name": "Python 3 (ipykernel)",
   "language": "python",
   "name": "python3"
  },
  "language_info": {
   "codemirror_mode": {
    "name": "ipython",
    "version": 3
   },
   "file_extension": ".py",
   "mimetype": "text/x-python",
   "name": "python",
   "nbconvert_exporter": "python",
   "pygments_lexer": "ipython3",
   "version": "3.9.6"
  },
  "toc": {
   "base_numbering": 1,
   "nav_menu": {},
   "number_sections": true,
   "sideBar": true,
   "skip_h1_title": false,
   "title_cell": "Table of Contents",
   "title_sidebar": "Contents",
   "toc_cell": false,
   "toc_position": {
    "height": "calc(100% - 180px)",
    "left": "10px",
    "top": "150px",
    "width": "199.808px"
   },
   "toc_section_display": true,
   "toc_window_display": true
  }
 },
 "nbformat": 4,
 "nbformat_minor": 5
}
