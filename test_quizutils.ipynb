{
 "cells": [
  {
   "cell_type": "markdown",
   "id": "5c61dc6c",
   "metadata": {},
   "source": [
    "# Test quizuiflowcontrol"
   ]
  },
  {
   "cell_type": "code",
   "execution_count": 1,
   "id": "0dbc82c3",
   "metadata": {
    "ExecuteTime": {
     "end_time": "2023-12-04T21:42:59.090270Z",
     "start_time": "2023-12-04T21:42:38.514478Z"
    },
    "scrolled": false
   },
   "outputs": [
    {
     "name": "stdout",
     "output_type": "stream",
     "text": [
      "Available Quizzes:\n",
      "(1): Computer Vocabulary Quiz\n",
      "(2): Time Vocabulary Quiz\n",
      "(3): Speaking About the Weather Quiz\n",
      "(4): Weather Vocabulary Quiz\n",
      "(5): Time Collocations Quiz\n",
      "(6): Animal Vocabulary Quiz\n",
      "(7): Small Talk Quiz\n",
      "(8): Countries and Nationality Quiz\n",
      "(9): Criminals Vocabulary Quiz\n",
      "(10): Family Vocabulary Quiz\n",
      "(11): North, South, East and West Quiz\n",
      "(12): Numbers Vocabulary Quiz\n",
      "(13): Christmas Vocabulary Quiz\n",
      "\n",
      "Tester_name is taking Quiz ID 1\n",
      "\n",
      "\n",
      " ********************************************\n",
      "QUIZ NAME: Computer Vocabulary Quiz\n",
      "DESCRIPTION: This is a sample quiz\n",
      "QUESTIONS: 1/10\n",
      "TOTAL POINTS: 10\n",
      "******************************************** \n",
      "\n",
      "A computer program is a piece of\n",
      "1) hardware\n",
      "2) underwear\n",
      "3) software\n",
      "? 1\n",
      "------------------------------------------------\n",
      "\n",
      "\n",
      "\n",
      " ********************************************\n",
      "QUIZ NAME: Computer Vocabulary Quiz\n",
      "DESCRIPTION: This is a sample quiz\n",
      "QUESTIONS: 2/10\n",
      "TOTAL POINTS: 10\n",
      "******************************************** \n",
      "\n",
      "Devices that are connected to computers, such as printers, scanners and modems, are called\n",
      "1) peripherals\n",
      "2) formats\n",
      "3) apps\n",
      "? 2\n",
      "------------------------------------------------\n",
      "\n",
      "\n",
      "\n",
      " ********************************************\n",
      "QUIZ NAME: Computer Vocabulary Quiz\n",
      "DESCRIPTION: This is a sample quiz\n",
      "QUESTIONS: 3/10\n",
      "TOTAL POINTS: 10\n",
      "******************************************** \n",
      "\n",
      "What do we call a specific computer record containing data or a small program?\n",
      "1) a file\n",
      "2) a format\n",
      "3) an icon\n",
      "? 3\n",
      "------------------------------------------------\n",
      "\n",
      "\n",
      "\n",
      " ********************************************\n",
      "QUIZ NAME: Computer Vocabulary Quiz\n",
      "DESCRIPTION: This is a sample quiz\n",
      "QUESTIONS: 4/10\n",
      "TOTAL POINTS: 10\n",
      "******************************************** \n",
      "\n",
      "What do we call the part of a computer that stores programs and information?\n",
      "1) the hotspot\n",
      "2) the hard disk\n",
      "3) the notebook\n",
      "? 4\n",
      "Sorry, that's not a valid response. The response should be a number between 1 to 3.\n",
      "Please try again.\n",
      "?  \n",
      "Sorry, that's not a valid response. The response should be a number between 1 to 3.\n",
      "Please try again.\n",
      "? a\n",
      "Sorry, that's not a valid response. The response should be a number between 1 to 3.\n",
      "Please try again.\n",
      "? 1\n",
      "------------------------------------------------\n",
      "\n",
      "\n",
      "\n",
      " ********************************************\n",
      "QUIZ NAME: Computer Vocabulary Quiz\n",
      "DESCRIPTION: This is a sample quiz\n",
      "QUESTIONS: 5/10\n",
      "TOTAL POINTS: 10\n",
      "******************************************** \n",
      "\n",
      "What do we call a program for exploring the Web and viewing websites?\n",
      "1) a driver\n",
      "2) a browser\n",
      "3) a scanner\n",
      "? 2\n",
      "------------------------------------------------\n",
      "\n",
      "\n",
      "\n",
      " ********************************************\n",
      "QUIZ NAME: Computer Vocabulary Quiz\n",
      "DESCRIPTION: This is a sample quiz\n",
      "QUESTIONS: 6/10\n",
      "TOTAL POINTS: 10\n",
      "******************************************** \n",
      "\n",
      "To open a particular folder, file or app, you just have to click on its\n",
      "1) pixel\n",
      "2) icon\n",
      "3) font\n",
      "? 2\n",
      "------------------------------------------------\n",
      "\n",
      "\n",
      "\n",
      " ********************************************\n",
      "QUIZ NAME: Computer Vocabulary Quiz\n",
      "DESCRIPTION: This is a sample quiz\n",
      "QUESTIONS: 7/10\n",
      "TOTAL POINTS: 10\n",
      "******************************************** \n",
      "\n",
      "RAM, ROM and cache are different types of _______ that computers can use.\n",
      "1) Wi-Fi\n",
      "2) file\n",
      "3) memory\n",
      "? 4\n",
      "Sorry, that's not a valid response. The response should be a number between 1 to 3.\n",
      "Please try again.\n",
      "? 3\n",
      "------------------------------------------------\n",
      "\n",
      "\n",
      "\n",
      " ********************************************\n",
      "QUIZ NAME: Computer Vocabulary Quiz\n",
      "DESCRIPTION: This is a sample quiz\n",
      "QUESTIONS: 8/10\n",
      "TOTAL POINTS: 10\n",
      "******************************************** \n",
      "\n",
      "Which allows wireless data communication?\n",
      "1) a USB flash drive\n",
      "2) a Bluetooth connection\n",
      "3) an anti-virus app\n",
      "? 2\n",
      "------------------------------------------------\n",
      "\n",
      "\n",
      "\n",
      " ********************************************\n",
      "QUIZ NAME: Computer Vocabulary Quiz\n",
      "DESCRIPTION: This is a sample quiz\n",
      "QUESTIONS: 9/10\n",
      "TOTAL POINTS: 10\n",
      "******************************************** \n",
      "\n",
      "What do people go to public hotspots for?\n",
      "1) Internet access\n",
      "2) software bugs\n",
      "3) free viruses\n",
      "? 1\n",
      "------------------------------------------------\n",
      "\n",
      "\n",
      "\n",
      " ********************************************\n",
      "QUIZ NAME: Computer Vocabulary Quiz\n",
      "DESCRIPTION: This is a sample quiz\n",
      "QUESTIONS: 10/10\n",
      "TOTAL POINTS: 10\n",
      "******************************************** \n",
      "\n",
      "A computer's _______ is called its heart or \"brains\" because it's where data is processed.\n",
      "1) RAM\n",
      "2) USB\n",
      "3) CPU\n",
      "? 2\n",
      "------------------------------------------------\n",
      "\n",
      "\n",
      "Quiz Results:\n",
      "******************************************** \n",
      "\n",
      "RESULTS for Tester_name\n",
      "Date: 2023-12-04 13:42:59.086107\n",
      "QUESTIONS: 5 out of 10 correct\n",
      "SCORE: 5.00 points of possible 10.00\n",
      "SCORE EXTRA: 22.71 points\n",
      "TOTAL SCORE: 27.71 points\n",
      "******************************************** \n",
      "\n",
      "\n",
      "\n",
      "************** Result Details ************** \n",
      "\n",
      "Question: A computer program is a piece of\n",
      "Correct Answer: software\n",
      "Your Answer: \thardware\n",
      "Time Spending: \t8.48 seconds\n",
      "Score: \t\t0.00 points\n",
      "Extra Score: \t0.00 points\n",
      "Total Score: \t0.00 points\n",
      "-------------------------------------------- \n",
      "\n",
      "Question: Devices that are connected to computers, such as printers, scanners and modems, are called\n",
      "Correct Answer: peripherals\n",
      "Your Answer: \tformats\n",
      "Time Spending: \t3.14 seconds\n",
      "Score: \t\t0.00 points\n",
      "Extra Score: \t0.00 points\n",
      "Total Score: \t0.00 points\n",
      "-------------------------------------------- \n",
      "\n",
      "Question: What do we call a specific computer record containing data or a small program?\n",
      "Correct Answer: a file\n",
      "Your Answer: \tan icon\n",
      "Time Spending: \t0.53 seconds\n",
      "Score: \t\t0.00 points\n",
      "Extra Score: \t0.00 points\n",
      "Total Score: \t0.00 points\n",
      "-------------------------------------------- \n",
      "\n",
      "Question: What do we call the part of a computer that stores programs and information?\n",
      "Correct Answer: the hard disk\n",
      "Your Answer: \tthe hotspot\n",
      "Time Spending: \t3.26 seconds\n",
      "Score: \t\t0.00 points\n",
      "Extra Score: \t0.00 points\n",
      "Total Score: \t0.00 points\n",
      "-------------------------------------------- \n",
      "\n",
      "Question: What do we call a program for exploring the Web and viewing websites?\n",
      "Correct Answer: a browser\n",
      "Your Answer: \ta browser\n",
      "Time Spending: \t0.47 seconds\n",
      "Score: \t\t1.00 points\n",
      "Extra Score: \t5.00 points\n",
      "Total Score: \t6.00 points\n",
      "-------------------------------------------- \n",
      "\n",
      "Question: To open a particular folder, file or app, you just have to click on its\n",
      "Correct Answer: icon\n",
      "Your Answer: \ticon\n",
      "Time Spending: \t1.54 seconds\n",
      "Score: \t\t1.00 points\n",
      "Extra Score: \t3.26 points\n",
      "Total Score: \t4.26 points\n",
      "-------------------------------------------- \n",
      "\n",
      "Question: RAM, ROM and cache are different types of _______ that computers can use.\n",
      "Correct Answer: memory\n",
      "Your Answer: \tmemory\n",
      "Time Spending: \t1.12 seconds\n",
      "Score: \t\t1.00 points\n",
      "Extra Score: \t4.46 points\n",
      "Total Score: \t5.46 points\n",
      "-------------------------------------------- \n",
      "\n",
      "Question: Which allows wireless data communication?\n",
      "Correct Answer: a Bluetooth connection\n",
      "Your Answer: \ta Bluetooth connection\n",
      "Time Spending: \t0.43 seconds\n",
      "Score: \t\t1.00 points\n",
      "Extra Score: \t5.00 points\n",
      "Total Score: \t6.00 points\n",
      "-------------------------------------------- \n",
      "\n",
      "Question: What do people go to public hotspots for?\n",
      "Correct Answer: Internet access\n",
      "Your Answer: \tInternet access\n",
      "Time Spending: \t0.74 seconds\n",
      "Score: \t\t1.00 points\n",
      "Extra Score: \t5.00 points\n",
      "Total Score: \t6.00 points\n",
      "-------------------------------------------- \n",
      "\n",
      "Question: A computer's _______ is called its heart or \"brains\" because it's where data is processed.\n",
      "Correct Answer: CPU\n",
      "Your Answer: \tUSB\n",
      "Time Spending: \t0.85 seconds\n",
      "Score: \t\t0.00 points\n",
      "Extra Score: \t0.00 points\n",
      "Total Score: \t0.00 points\n",
      "-------------------------------------------- \n",
      "\n",
      "SCORE: \t5.00 points of possible 10.00\n",
      "SCORE EXTRA: \t22.71 points\n",
      "TOTAL SCORE: \t27.71 points\n",
      "******************************************** \n",
      "\n",
      "Results saved.\n"
     ]
    }
   ],
   "source": [
    "from quizuiflowcontrol.quizmanager import *\n",
    "from quizuiflowcontrol.main_menu import *\n",
    "from quizutils.quiz import *\n",
    "from quizutils.quiz import *\n",
    "\n",
    "def main():\n",
    "    # Path to the directory where quizzes are stored\n",
    "    quiz_folder = 'db_quizzes'\n",
    "\n",
    "    # Initialize QuizManager\n",
    "    quiz_manager = QuizManager(quiz_folder)\n",
    "\n",
    "    # List available quizzes\n",
    "    print(\"Available Quizzes:\")\n",
    "    quiz_manager.list_quizzes()\n",
    "\n",
    "    # Simulate user selecting a quiz and taking it\n",
    "    selected_quiz_id = 1  # Assuming user selects quiz with ID 1\n",
    "    username = \"Tester_name\"\n",
    "    print(f\"\\n{username} is taking Quiz ID {selected_quiz_id}\")\n",
    "    quiz_manager.take_quiz(selected_quiz_id, username)\n",
    "\n",
    "    # Print the results\n",
    "    print(\"\\nQuiz Results:\")\n",
    "    quiz_manager.print_results()\n",
    "\n",
    "    # Save the results\n",
    "    quiz_manager.save_results()\n",
    "    print(\"Results saved.\")\n",
    "\n",
    "if __name__ == '__main__':\n",
    "    main()\n"
   ]
  },
  {
   "cell_type": "markdown",
   "id": "488e883b",
   "metadata": {},
   "source": [
    "# Test quizutils"
   ]
  },
  {
   "cell_type": "markdown",
   "id": "89c986bb",
   "metadata": {},
   "source": [
    "## Test quizparser.py"
   ]
  },
  {
   "cell_type": "code",
   "execution_count": 6,
   "id": "8f36fc16",
   "metadata": {
    "ExecuteTime": {
     "end_time": "2023-12-04T21:15:08.588929Z",
     "start_time": "2023-12-04T21:15:08.583777Z"
    }
   },
   "outputs": [],
   "source": [
    "from quizutils.quizparser import JSONQuizParser"
   ]
  },
  {
   "cell_type": "markdown",
   "id": "9af927ce",
   "metadata": {},
   "source": [
    "### import_data"
   ]
  },
  {
   "cell_type": "code",
   "execution_count": 22,
   "id": "401f6506",
   "metadata": {
    "ExecuteTime": {
     "end_time": "2023-12-04T21:20:51.308022Z",
     "start_time": "2023-12-04T21:20:51.303880Z"
    }
   },
   "outputs": [],
   "source": [
    "file_json = 'db_quizzes/english-speaking-small-talk_quiz.json'\n",
    "qparser_obj = JSONQuizParser()\n",
    "quiz_data = qparser_obj.import_data(file_json)"
   ]
  },
  {
   "cell_type": "code",
   "execution_count": 23,
   "id": "7c15c7f4",
   "metadata": {
    "ExecuteTime": {
     "end_time": "2023-12-04T21:20:52.000509Z",
     "start_time": "2023-12-04T21:20:51.996592Z"
    },
    "scrolled": false
   },
   "outputs": [
    {
     "name": "stdout",
     "output_type": "stream",
     "text": [
      "Small Talk Quiz\n",
      "This is a sample quiz\n",
      "[{'type': 'tf', 'points': '1', 'text': 'It is common for people who are waiting together to engage in small talk.', 'answer': 'True', 'choices': {'1': 'True', '2': 'False'}}, {'type': 'tf', 'points': '1', 'text': 'Religion is usually considered a \"safe\" topic for small talk.', 'answer': 'False', 'choices': {'1': 'True', '2': 'False'}}, {'type': 'tf', 'points': '1', 'text': 'Children are taught not to speak to strangers who engage them in small talk.', 'answer': 'True', 'choices': {'1': 'True', '2': 'False'}}, {'type': 'tf', 'points': '1', 'text': \"It is rude to make small talk with someone who's delivering your mail.\", 'answer': 'False', 'choices': {'1': 'True', '2': 'False'}}, {'type': 'tf', 'points': '1', 'text': 'Sport is not usually a \"safe\" topic for small talk.', 'answer': 'False', 'choices': {'1': 'True', '2': 'False'}}, {'type': 'tf', 'points': '1', 'text': \"When making small talk, complimenting someone's clothes or hairstyle is usually acceptable.\", 'answer': 'True', 'choices': {'1': 'True', '2': 'False'}}, {'type': 'tf', 'points': '1', 'text': 'Divisive topics like politics are usually considered unsuitable for small talk.', 'answer': 'True', 'choices': {'1': 'True', '2': 'False'}}, {'type': 'tf', 'points': '1', 'text': 'It is common to talk about the weather while sharing an elevator.', 'answer': 'True', 'choices': {'1': 'True', '2': 'False'}}, {'type': 'tf', 'points': '1', 'text': 'It is polite to interrupt a conversation in order to make small talk.', 'answer': 'False', 'choices': {'1': 'True', '2': 'False'}}, {'type': 'tf', 'points': '1', 'text': 'People often use small talk to fill an uncomfortable silence. ', 'answer': 'True', 'choices': {'1': 'True', '2': 'False'}}]\n"
     ]
    }
   ],
   "source": [
    "print(quiz_data['quizname'])\n",
    "print(quiz_data['description'])\n",
    "print(quiz_data['questions'])"
   ]
  },
  {
   "cell_type": "markdown",
   "id": "b53fb8b4",
   "metadata": {},
   "source": [
    "### create_question_obj"
   ]
  },
  {
   "cell_type": "code",
   "execution_count": 29,
   "id": "69ed8a89",
   "metadata": {
    "ExecuteTime": {
     "end_time": "2023-12-04T21:22:05.764902Z",
     "start_time": "2023-12-04T21:22:05.759852Z"
    }
   },
   "outputs": [
    {
     "data": {
      "text/plain": [
       "{'type': 'tf',\n",
       " 'points': '1',\n",
       " 'text': 'Religion is usually considered a \"safe\" topic for small talk.',\n",
       " 'answer': 'False',\n",
       " 'choices': {'1': 'True', '2': 'False'}}"
      ]
     },
     "execution_count": 29,
     "metadata": {},
     "output_type": "execute_result"
    }
   ],
   "source": [
    "question_sample = quiz_data['questions'][1]\n",
    "question_sample"
   ]
  },
  {
   "cell_type": "code",
   "execution_count": 41,
   "id": "49607f62",
   "metadata": {
    "ExecuteTime": {
     "end_time": "2023-12-04T21:24:19.450735Z",
     "start_time": "2023-12-04T21:24:19.445484Z"
    }
   },
   "outputs": [
    {
     "name": "stdout",
     "output_type": "stream",
     "text": [
      "Religion is usually considered a \"safe\" topic for small talk.\n",
      "1\n",
      "False\n",
      "False\n",
      "None\n",
      "None\n"
     ]
    }
   ],
   "source": [
    "question_obj = qparser_obj.create_question_obj(question_sample)\n",
    "print(question_obj.text)\n",
    "print(question_obj.points)\n",
    "print(question_obj.correct_answer)\n",
    "print(question_obj.is_correct)\n",
    "print(question_obj.log_response)\n",
    "print(question_obj.log_time_at_res)"
   ]
  },
  {
   "cell_type": "markdown",
   "id": "6a79ba94",
   "metadata": {},
   "source": [
    "### ask"
   ]
  },
  {
   "cell_type": "code",
   "execution_count": 54,
   "id": "b621b7dc",
   "metadata": {
    "ExecuteTime": {
     "end_time": "2023-12-04T21:28:47.622351Z",
     "start_time": "2023-12-04T21:28:40.743961Z"
    }
   },
   "outputs": [
    {
     "name": "stdout",
     "output_type": "stream",
     "text": [
      "(T)rue or (F)alse: Religion is usually considered a \"safe\" topic for small talk.\n",
      "? 1\n",
      "Sorry, The valid response should be \"t/T\" or \"f/F\"\n",
      "Please try again.\n",
      "?  \n",
      "Sorry, The valid response should be \"t/T\" or \"f/F\"\n",
      "Please try again.\n",
      "? \"\n",
      "Sorry, The valid response should be \"t/T\" or \"f/F\"\n",
      "Please try again.\n",
      "? ~\n",
      "Sorry, The valid response should be \"t/T\" or \"f/F\"\n",
      "Please try again.\n",
      "? q\n",
      "Sorry, The valid response should be \"t/T\" or \"f/F\"\n",
      "Please try again.\n",
      "? c\n",
      "Sorry, The valid response should be \"t/T\" or \"f/F\"\n",
      "Please try again.\n",
      "? aaaa\n",
      "Sorry, The valid response should be \"t/T\" or \"f/F\"\n",
      "Please try again.\n",
      "? t\n",
      "Log Answer   : True\n",
      "Time spending: 1701725327.619972\n",
      "Check the answer is correct? : False\n"
     ]
    }
   ],
   "source": [
    "question_obj.ask()\n",
    "print(\"Log Answer   :\", question_obj.log_response)\n",
    "print(\"Time spending:\", question_obj.log_time_at_res)\n",
    "print(\"Check the answer is correct? :\", question_obj.is_correct)"
   ]
  },
  {
   "cell_type": "code",
   "execution_count": 55,
   "id": "ed5b3b46",
   "metadata": {
    "ExecuteTime": {
     "end_time": "2023-12-04T21:28:51.356179Z",
     "start_time": "2023-12-04T21:28:49.931788Z"
    }
   },
   "outputs": [
    {
     "name": "stdout",
     "output_type": "stream",
     "text": [
      "(T)rue or (F)alse: Religion is usually considered a \"safe\" topic for small talk.\n",
      "? f\n",
      "Log Answer   : False\n",
      "Time spending: 1701725331.353745\n",
      "Check the answer is correct? : True\n"
     ]
    }
   ],
   "source": [
    "question_obj.ask()\n",
    "print(\"Log Answer   :\", question_obj.log_response)\n",
    "print(\"Time spending:\", question_obj.log_time_at_res)\n",
    "print(\"Check the answer is correct? :\", question_obj.is_correct)"
   ]
  },
  {
   "cell_type": "markdown",
   "id": "10ecd95d",
   "metadata": {},
   "source": [
    "## Test quiz.py"
   ]
  },
  {
   "cell_type": "code",
   "execution_count": 56,
   "id": "b429771c",
   "metadata": {
    "ExecuteTime": {
     "end_time": "2023-12-04T21:29:34.805535Z",
     "start_time": "2023-12-04T21:29:34.802282Z"
    }
   },
   "outputs": [],
   "source": [
    "from quizutils.quiz import *"
   ]
  },
  {
   "cell_type": "markdown",
   "id": "58a4c027",
   "metadata": {},
   "source": [
    "### take_quiz"
   ]
  },
  {
   "cell_type": "code",
   "execution_count": null,
   "id": "86ebcdf2",
   "metadata": {
    "ExecuteTime": {
     "start_time": "2023-12-04T21:35:06.763Z"
    }
   },
   "outputs": [
    {
     "name": "stdout",
     "output_type": "stream",
     "text": [
      "\n",
      "\n",
      " ********************************************\n",
      "QUIZ NAME: Small Talk Quiz\n",
      "DESCRIPTION: This is a sample quiz\n",
      "QUESTIONS: 1/10\n",
      "TOTAL POINTS: 10\n",
      "******************************************** \n",
      "\n",
      "(T)rue or (F)alse: It is common for people who are waiting together to engage in small talk.\n",
      "? t\n",
      "------------------------------------------------\n",
      "\n",
      "\n",
      "\n",
      " ********************************************\n",
      "QUIZ NAME: Small Talk Quiz\n",
      "DESCRIPTION: This is a sample quiz\n",
      "QUESTIONS: 2/10\n",
      "TOTAL POINTS: 10\n",
      "******************************************** \n",
      "\n",
      "(T)rue or (F)alse: Religion is usually considered a \"safe\" topic for small talk.\n"
     ]
    }
   ],
   "source": [
    "quiz_obj = qparser_obj.parse_quiz(file_json)\n",
    "\n",
    "quiz_obj.quiztaker = \"MyName\"\n",
    "quiz_obj.take_quiz()"
   ]
  },
  {
   "cell_type": "markdown",
   "id": "5b848246",
   "metadata": {},
   "source": [
    "### print_header"
   ]
  },
  {
   "cell_type": "code",
   "execution_count": 71,
   "id": "eede3dd8",
   "metadata": {
    "ExecuteTime": {
     "end_time": "2023-12-04T21:38:56.323098Z",
     "start_time": "2023-12-04T21:38:56.317466Z"
    }
   },
   "outputs": [
    {
     "name": "stdout",
     "output_type": "stream",
     "text": [
      "\n",
      "\n",
      " ********************************************\n",
      "QUIZ NAME: Small Talk Quiz\n",
      "DESCRIPTION: This is a sample quiz\n",
      "QUESTIONS: 2/10\n",
      "TOTAL POINTS: 10\n",
      "******************************************** \n",
      "\n"
     ]
    }
   ],
   "source": [
    "quiz_obj.print_header(1)"
   ]
  },
  {
   "cell_type": "code",
   "execution_count": 72,
   "id": "6687cdf1",
   "metadata": {
    "ExecuteTime": {
     "end_time": "2023-12-04T21:38:59.632332Z",
     "start_time": "2023-12-04T21:38:59.628218Z"
    }
   },
   "outputs": [
    {
     "name": "stdout",
     "output_type": "stream",
     "text": [
      "\n",
      "\n",
      " ********************************************\n",
      "QUIZ NAME: Small Talk Quiz\n",
      "DESCRIPTION: This is a sample quiz\n",
      "QUESTIONS: 3/10\n",
      "TOTAL POINTS: 10\n",
      "******************************************** \n",
      "\n"
     ]
    }
   ],
   "source": [
    "quiz_obj.print_header(2)"
   ]
  },
  {
   "cell_type": "markdown",
   "id": "995ff8b7",
   "metadata": {},
   "source": [
    "### print_results"
   ]
  },
  {
   "cell_type": "code",
   "execution_count": 73,
   "id": "7d76e989",
   "metadata": {
    "ExecuteTime": {
     "end_time": "2023-12-04T21:39:09.696858Z",
     "start_time": "2023-12-04T21:39:09.692772Z"
    },
    "scrolled": false
   },
   "outputs": [
    {
     "name": "stdout",
     "output_type": "stream",
     "text": [
      "******************************************** \n",
      "\n",
      "RESULTS for MyNameIS\n",
      "Date: 2023-12-04 13:39:09.694269\n",
      "QUESTIONS: 9 out of 10 correct\n",
      "SCORE: 9.00 points of possible 10.00\n",
      "SCORE EXTRA: 35.08 points\n",
      "TOTAL SCORE: 44.08 points\n",
      "******************************************** \n",
      "\n",
      "\n",
      "\n",
      "************** Result Details ************** \n",
      "\n",
      "Question: It is common for people who are waiting together to engage in small talk.\n",
      "Correct Answer: True\n",
      "Your Answer: \tTrue\n",
      "Time Spending: \t3.38 seconds\n",
      "Score: \t\t1.00 points\n",
      "Extra Score: \t1.48 points\n",
      "Total Score: \t2.48 points\n",
      "-------------------------------------------- \n",
      "\n",
      "Question: Religion is usually considered a \"safe\" topic for small talk.\n",
      "Correct Answer: False\n",
      "Your Answer: \tFalse\n",
      "Time Spending: \t0.86 seconds\n",
      "Score: \t\t1.00 points\n",
      "Extra Score: \t5.00 points\n",
      "Total Score: \t6.00 points\n",
      "-------------------------------------------- \n",
      "\n",
      "Question: Children are taught not to speak to strangers who engage them in small talk.\n",
      "Correct Answer: True\n",
      "Your Answer: \tTrue\n",
      "Time Spending: \t1.38 seconds\n",
      "Score: \t\t1.00 points\n",
      "Extra Score: \t3.63 points\n",
      "Total Score: \t4.63 points\n",
      "-------------------------------------------- \n",
      "\n",
      "Question: It is rude to make small talk with someone who's delivering your mail.\n",
      "Correct Answer: False\n",
      "Your Answer: \tFalse\n",
      "Time Spending: \t1.19 seconds\n",
      "Score: \t\t1.00 points\n",
      "Extra Score: \t4.22 points\n",
      "Total Score: \t5.22 points\n",
      "-------------------------------------------- \n",
      "\n",
      "Question: Sport is not usually a \"safe\" topic for small talk.\n",
      "Correct Answer: False\n",
      "Your Answer: \tFalse\n",
      "Time Spending: \t0.52 seconds\n",
      "Score: \t\t1.00 points\n",
      "Extra Score: \t5.00 points\n",
      "Total Score: \t6.00 points\n",
      "-------------------------------------------- \n",
      "\n",
      "Question: When making small talk, complimenting someone's clothes or hairstyle is usually acceptable.\n",
      "Correct Answer: True\n",
      "Your Answer: \tTrue\n",
      "Time Spending: \t0.47 seconds\n",
      "Score: \t\t1.00 points\n",
      "Extra Score: \t5.00 points\n",
      "Total Score: \t6.00 points\n",
      "-------------------------------------------- \n",
      "\n",
      "Question: Divisive topics like politics are usually considered unsuitable for small talk.\n",
      "Correct Answer: True\n",
      "Your Answer: \tFalse\n",
      "Time Spending: \t0.47 seconds\n",
      "Score: \t\t0.00 points\n",
      "Extra Score: \t0.00 points\n",
      "Total Score: \t0.00 points\n",
      "-------------------------------------------- \n",
      "\n",
      "Question: It is common to talk about the weather while sharing an elevator.\n",
      "Correct Answer: True\n",
      "Your Answer: \tTrue\n",
      "Time Spending: \t1.32 seconds\n",
      "Score: \t\t1.00 points\n",
      "Extra Score: \t3.79 points\n",
      "Total Score: \t4.79 points\n",
      "-------------------------------------------- \n",
      "\n",
      "Question: It is polite to interrupt a conversation in order to make small talk.\n",
      "Correct Answer: False\n",
      "Your Answer: \tFalse\n",
      "Time Spending: \t0.37 seconds\n",
      "Score: \t\t1.00 points\n",
      "Extra Score: \t5.00 points\n",
      "Total Score: \t6.00 points\n",
      "-------------------------------------------- \n",
      "\n",
      "Question: People often use small talk to fill an uncomfortable silence. \n",
      "Correct Answer: True\n",
      "Your Answer: \tTrue\n",
      "Time Spending: \t2.54 seconds\n",
      "Score: \t\t1.00 points\n",
      "Extra Score: \t1.97 points\n",
      "Total Score: \t2.97 points\n",
      "-------------------------------------------- \n",
      "\n",
      "SCORE: \t9.00 points of possible 10.00\n",
      "SCORE EXTRA: \t35.08 points\n",
      "TOTAL SCORE: \t44.08 points\n",
      "******************************************** \n",
      "\n"
     ]
    }
   ],
   "source": [
    "quiz_obj.print_results(\"MyNameIS\")"
   ]
  },
  {
   "cell_type": "code",
   "execution_count": null,
   "id": "cb87c3a8",
   "metadata": {},
   "outputs": [],
   "source": []
  }
 ],
 "metadata": {
  "kernelspec": {
   "display_name": "Python 3 (ipykernel)",
   "language": "python",
   "name": "python3"
  },
  "language_info": {
   "codemirror_mode": {
    "name": "ipython",
    "version": 3
   },
   "file_extension": ".py",
   "mimetype": "text/x-python",
   "name": "python",
   "nbconvert_exporter": "python",
   "pygments_lexer": "ipython3",
   "version": "3.9.6"
  },
  "toc": {
   "base_numbering": 1,
   "nav_menu": {},
   "number_sections": true,
   "sideBar": true,
   "skip_h1_title": false,
   "title_cell": "Table of Contents",
   "title_sidebar": "Contents",
   "toc_cell": false,
   "toc_position": {
    "height": "calc(100% - 180px)",
    "left": "10px",
    "top": "150px",
    "width": "197.18px"
   },
   "toc_section_display": true,
   "toc_window_display": true
  }
 },
 "nbformat": 4,
 "nbformat_minor": 5
}
