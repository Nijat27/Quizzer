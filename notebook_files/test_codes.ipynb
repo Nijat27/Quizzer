{
 "cells": [
  {
   "cell_type": "code",
   "execution_count": 1,
   "id": "7a7f1d46",
   "metadata": {
    "ExecuteTime": {
     "end_time": "2023-11-24T05:44:51.765406Z",
     "start_time": "2023-11-24T05:44:51.762449Z"
    }
   },
   "outputs": [],
   "source": [
    "# go to the main folder first as you are in the notebook_files folder\n",
    "# using cd .."
   ]
  },
  {
   "cell_type": "markdown",
   "id": "85773a06",
   "metadata": {},
   "source": [
    "# get all quiz names"
   ]
  },
  {
   "cell_type": "code",
   "execution_count": 2,
   "id": "ae0d5c67",
   "metadata": {
    "ExecuteTime": {
     "end_time": "2023-11-24T05:44:51.773150Z",
     "start_time": "2023-11-24T05:44:51.768258Z"
    }
   },
   "outputs": [
    {
     "name": "stdout",
     "output_type": "stream",
     "text": [
      "/Users/apple-b/Desktop/ubco_mds/data533/Quizzer\n"
     ]
    }
   ],
   "source": [
    "cd .."
   ]
  },
  {
   "cell_type": "code",
   "execution_count": 3,
   "id": "f3b9fb08",
   "metadata": {
    "ExecuteTime": {
     "end_time": "2023-11-24T05:44:51.780699Z",
     "start_time": "2023-11-24T05:44:51.775072Z"
    }
   },
   "outputs": [],
   "source": [
    "import os\n",
    "from ui_qmanager.quiz_manager import QuizManager"
   ]
  },
  {
   "cell_type": "code",
   "execution_count": 4,
   "id": "adb0f010",
   "metadata": {
    "ExecuteTime": {
     "end_time": "2023-11-24T05:44:51.785329Z",
     "start_time": "2023-11-24T05:44:51.782408Z"
    }
   },
   "outputs": [],
   "source": [
    "qm = QuizManager()"
   ]
  },
  {
   "cell_type": "code",
   "execution_count": 5,
   "id": "c3227970",
   "metadata": {
    "ExecuteTime": {
     "end_time": "2023-11-24T05:44:51.796919Z",
     "start_time": "2023-11-24T05:44:51.789179Z"
    }
   },
   "outputs": [
    {
     "data": {
      "text/plain": [
       "['Computer Vocabulary Quiz',\n",
       " 'Time Vocabulary Quiz',\n",
       " 'Speaking About the Weather Quiz',\n",
       " 'Weather Vocabulary Quiz',\n",
       " 'Time Collocations Quiz',\n",
       " 'Animal Vocabulary Quiz',\n",
       " 'Small Talk Quiz',\n",
       " 'Countries and Nationality Quiz',\n",
       " 'Criminals Vocabulary Quiz',\n",
       " 'Family Vocabulary Quiz',\n",
       " 'North, South, East and West Quiz',\n",
       " 'Numbers Vocabulary Quiz',\n",
       " 'Christmas Vocabulary Quiz']"
      ]
     },
     "execution_count": 5,
     "metadata": {},
     "output_type": "execute_result"
    }
   ],
   "source": [
    "qm.get_all_quiz_name()"
   ]
  },
  {
   "cell_type": "markdown",
   "id": "7edcf1a3",
   "metadata": {},
   "source": [
    "# parse data to question objects"
   ]
  },
  {
   "cell_type": "code",
   "execution_count": 1,
   "id": "4cf97282",
   "metadata": {
    "ExecuteTime": {
     "end_time": "2023-11-25T05:06:02.829124Z",
     "start_time": "2023-11-25T05:06:02.822791Z"
    }
   },
   "outputs": [
    {
     "name": "stdout",
     "output_type": "stream",
     "text": [
      "/Users/apple-b/Desktop/ubco_mds/data533/Quizzer\n"
     ]
    }
   ],
   "source": [
    "cd .."
   ]
  },
  {
   "cell_type": "code",
   "execution_count": 2,
   "id": "77805edc",
   "metadata": {
    "ExecuteTime": {
     "end_time": "2023-11-25T05:06:03.032146Z",
     "start_time": "2023-11-25T05:06:03.024678Z"
    }
   },
   "outputs": [],
   "source": [
    "from quizzes.quiz_parser import *"
   ]
  },
  {
   "cell_type": "code",
   "execution_count": 3,
   "id": "66aaf9b5",
   "metadata": {
    "ExecuteTime": {
     "end_time": "2023-11-25T00:57:08.528954Z",
     "start_time": "2023-11-25T00:57:08.525289Z"
    }
   },
   "outputs": [],
   "source": [
    "list_questions = create_quiz_obj('db_quizzes/english-speaking-small-talk_quiz.json')"
   ]
  },
  {
   "cell_type": "code",
   "execution_count": 12,
   "id": "2e35b8a7",
   "metadata": {
    "ExecuteTime": {
     "end_time": "2023-11-24T06:39:21.767337Z",
     "start_time": "2023-11-24T06:39:21.763402Z"
    }
   },
   "outputs": [
    {
     "name": "stdout",
     "output_type": "stream",
     "text": [
      "Question 1) It is common for people who are waiting together to engage in small talk. \n",
      "\n",
      "Question 2) Religion is usually considered a \"safe\" topic for small talk. \n",
      "\n",
      "Question 3) Children are taught not to speak to strangers who engage them in small talk. \n",
      "\n",
      "Question 4) It is rude to make small talk with someone who's delivering your mail. \n",
      "\n",
      "Question 5) Sport is not usually a \"safe\" topic for small talk. \n",
      "\n",
      "Question 6) When making small talk, complimenting someone's clothes or hairstyle is usually acceptable. \n",
      "\n",
      "Question 7) Divisive topics like politics are usually considered unsuitable for small talk. \n",
      "\n",
      "Question 8) It is common to talk about the weather while sharing an elevator. \n",
      "\n",
      "Question 9) It is polite to interrupt a conversation in order to make small talk. \n",
      "\n",
      "Question 10) People often use small talk to fill an uncomfortable silence.  \n",
      "\n"
     ]
    }
   ],
   "source": [
    "for idx, i in enumerate(list_questions):\n",
    "    print(f'Question {idx+1})', i.question, '\\n')"
   ]
  },
  {
   "cell_type": "markdown",
   "id": "4dfb7481",
   "metadata": {},
   "source": [
    "# log_answer"
   ]
  },
  {
   "cell_type": "code",
   "execution_count": 1,
   "id": "006a01bb",
   "metadata": {
    "ExecuteTime": {
     "end_time": "2023-11-25T05:06:10.458605Z",
     "start_time": "2023-11-25T05:06:10.452667Z"
    }
   },
   "outputs": [
    {
     "name": "stdout",
     "output_type": "stream",
     "text": [
      "/Users/apple-b/Desktop/ubco_mds/data533/Quizzer\n"
     ]
    }
   ],
   "source": [
    "cd .."
   ]
  },
  {
   "cell_type": "code",
   "execution_count": 2,
   "id": "8a3091cc",
   "metadata": {
    "ExecuteTime": {
     "end_time": "2023-11-25T05:06:10.682953Z",
     "start_time": "2023-11-25T05:06:10.674633Z"
    }
   },
   "outputs": [],
   "source": [
    "from quizzes.quiz import Quiz\n",
    "import time\n",
    "\n"
   ]
  },
  {
   "cell_type": "code",
   "execution_count": 3,
   "id": "5a166521",
   "metadata": {
    "ExecuteTime": {
     "end_time": "2023-11-25T05:06:17.229447Z",
     "start_time": "2023-11-25T05:06:10.966607Z"
    },
    "scrolled": true
   },
   "outputs": [
    {
     "name": "stdout",
     "output_type": "stream",
     "text": [
      "1) It is common for people who are waiting together to engage in small talk.\n",
      "1) True\n",
      "2) False\n",
      "Your selection? 1\n",
      "\n",
      "\n",
      "2) Religion is usually considered a \"safe\" topic for small talk.\n",
      "1) True\n",
      "2) False\n",
      "Your selection? 2\n",
      "\n",
      "\n"
     ]
    }
   ],
   "source": [
    "quiz_obj = Quiz(json_filename='db_quizzes/english-speaking-small-talk_quiz.json')\n",
    "\n",
    "# set start time\n",
    "time_start = quiz_obj.log_start_time()\n",
    "\n",
    "# run quiz\n",
    "for idx_q, quest_obj in enumerate(quiz_obj.list_question_obj[:2]):\n",
    "\n",
    "    # get question from obj.\n",
    "    question = quest_obj.question\n",
    "    print(f'{idx_q+1})', question)\n",
    "    \n",
    "    # get choices from obj.\n",
    "    list_choices = quest_obj.choices\n",
    "    for idx_c, choice in enumerate(list_choices):\n",
    "        print(f'{idx_c+1})', choice)\n",
    "        \n",
    "    # get answer from user\n",
    "    answer_slctd = input(\"Your selection? \")\n",
    "    time_ans = time.time()\n",
    "    \n",
    "    # convert number to choice text, support only integer\n",
    "    answer_slctd_covert = quest_obj.choices[int(answer_slctd)-1]\n",
    "    \n",
    "    # store the answer and time timestamp\n",
    "    quiz_obj.log_answers(answer_slctd_covert, time_ans)  # log the answer\n",
    "    \n",
    "    print('\\n')"
   ]
  },
  {
   "cell_type": "code",
   "execution_count": 4,
   "id": "6957a5a6",
   "metadata": {
    "ExecuteTime": {
     "end_time": "2023-11-25T05:06:20.428264Z",
     "start_time": "2023-11-25T05:06:20.416731Z"
    }
   },
   "outputs": [
    {
     "data": {
      "text/plain": [
       "['True', 'False']"
      ]
     },
     "execution_count": 4,
     "metadata": {},
     "output_type": "execute_result"
    }
   ],
   "source": [
    "quiz_obj.list_answers"
   ]
  },
  {
   "cell_type": "code",
   "execution_count": 5,
   "id": "ecb8f56f",
   "metadata": {
    "ExecuteTime": {
     "end_time": "2023-11-25T05:06:20.581209Z",
     "start_time": "2023-11-25T05:06:20.576116Z"
    }
   },
   "outputs": [
    {
     "data": {
      "text/plain": [
       "[1700888772.944812, 1700888777.2273412]"
      ]
     },
     "execution_count": 5,
     "metadata": {},
     "output_type": "execute_result"
    }
   ],
   "source": [
    "quiz_obj.list_time_at_ans"
   ]
  },
  {
   "cell_type": "code",
   "execution_count": 6,
   "id": "5b9ea104",
   "metadata": {
    "ExecuteTime": {
     "end_time": "2023-11-25T05:06:21.592593Z",
     "start_time": "2023-11-25T05:06:21.587973Z"
    }
   },
   "outputs": [
    {
     "data": {
      "text/plain": [
       "1700888770.9724648"
      ]
     },
     "execution_count": 6,
     "metadata": {},
     "output_type": "execute_result"
    }
   ],
   "source": [
    "quiz_obj.time_start"
   ]
  },
  {
   "cell_type": "markdown",
   "id": "3c379fe4",
   "metadata": {},
   "source": [
    "# cal score"
   ]
  },
  {
   "cell_type": "code",
   "execution_count": 7,
   "id": "ef24835e",
   "metadata": {
    "ExecuteTime": {
     "end_time": "2023-11-25T05:02:05.590205Z",
     "start_time": "2023-11-25T05:02:05.580853Z"
    }
   },
   "outputs": [
    {
     "name": "stdout",
     "output_type": "stream",
     "text": [
      "['True', 'True']\n"
     ]
    },
    {
     "data": {
      "text/plain": [
       "[0.8331241607666016, 2.3848109245300293]"
      ]
     },
     "execution_count": 7,
     "metadata": {},
     "output_type": "execute_result"
    }
   ],
   "source": [
    "print(quiz_obj.list_answers)\n",
    "\n",
    "\n",
    "list_time_at_ans = quiz_obj.list_time_at_ans\n",
    "\n",
    "# get time spedning for each question in second unit\n",
    "for idx, _ in enumerate(list_time_at_ans):\n",
    "    if idx==0:\n",
    "        time_used = list_time_at_ans[idx] - quiz_obj.time_start\n",
    "    else:\n",
    "        time_used = list_time_at_ans[idx] - list_time_at_ans[idx-1]\n",
    "        \n",
    "    quiz_obj.list_time_used.append(time_used)\n",
    "    \n",
    "quiz_obj.list_time_used\n"
   ]
  },
  {
   "cell_type": "code",
   "execution_count": 8,
   "id": "17f32e8e",
   "metadata": {
    "ExecuteTime": {
     "end_time": "2023-11-25T05:02:06.811523Z",
     "start_time": "2023-11-25T05:02:06.806478Z"
    }
   },
   "outputs": [
    {
     "name": "stdout",
     "output_type": "stream",
     "text": [
      "['True', 'False', 'True', 'False', 'False', 'True', 'True', 'True', 'False', 'True']\n",
      "['1', '1', '1', '1', '1', '1', '1', '1', '1', '1']\n",
      "[1.0, 0.0]\n"
     ]
    }
   ],
   "source": [
    "# calculate score \n",
    "list_qanswer = quiz_obj.get_all_question_answers()\n",
    "print(list_qanswer)\n",
    "list_qpoint = quiz_obj.get_all_question_points()\n",
    "print(list_qpoint)\n",
    "\n",
    "list_score = []\n",
    "for idx, ans in enumerate(quiz_obj.list_answers):\n",
    "    if ans==list_qanswer[idx]:\n",
    "        list_score.append(float(list_qpoint[idx]))\n",
    "    else:\n",
    "        list_score.append(0.0)\n",
    "        \n",
    "quiz_obj.list_score = list_score\n",
    "print(quiz_obj.list_score)"
   ]
  },
  {
   "cell_type": "code",
   "execution_count": 12,
   "id": "bce68dd9",
   "metadata": {
    "ExecuteTime": {
     "end_time": "2023-11-25T05:02:27.668179Z",
     "start_time": "2023-11-25T05:02:27.663611Z"
    }
   },
   "outputs": [
    {
     "name": "stdout",
     "output_type": "stream",
     "text": [
      "[7.2018077047232465, 2.515922725061489]\n"
     ]
    }
   ],
   "source": [
    "# calculate extra score\n",
    "list_score_ext = []\n",
    "for time_used in quiz_obj.list_time_used:\n",
    "    if time_used<=60:\n",
    "        list_score_ext.append(6/time_used)\n",
    "    else:\n",
    "        list_score_ext.append(0)\n",
    "quiz_obj.list_score_ext = list_score_ext\n",
    "print(quiz_obj.list_score_ext)"
   ]
  },
  {
   "cell_type": "code",
   "execution_count": 13,
   "id": "ff4ceb2c",
   "metadata": {
    "ExecuteTime": {
     "end_time": "2023-11-25T05:02:30.438720Z",
     "start_time": "2023-11-25T05:02:30.433450Z"
    }
   },
   "outputs": [
    {
     "name": "stdout",
     "output_type": "stream",
     "text": [
      "[8.201807704723247, 0.0]\n"
     ]
    }
   ],
   "source": [
    "# combine score\n",
    "list_score_final = []\n",
    "for idx, q_score in enumerate(quiz_obj.list_score):\n",
    "    if q_score==1:\n",
    "        score_cb = q_score + quiz_obj.list_score_ext[idx]\n",
    "        list_score_final.append(score_cb)\n",
    "    else:\n",
    "        list_score_final.append(q_score)\n",
    "quiz_obj.list_score_final = list_score_final\n",
    "print(quiz_obj.list_score_final)"
   ]
  },
  {
   "cell_type": "code",
   "execution_count": 14,
   "id": "62c0f491",
   "metadata": {
    "ExecuteTime": {
     "end_time": "2023-11-25T05:02:30.636702Z",
     "start_time": "2023-11-25T05:02:30.632491Z"
    }
   },
   "outputs": [
    {
     "name": "stdout",
     "output_type": "stream",
     "text": [
      "8.201807704723247\n"
     ]
    }
   ],
   "source": [
    "# calculate quiz score\n",
    "quiz_obj.quiz_score = sum(quiz_obj.list_score_final)\n",
    "print(quiz_obj.quiz_score)"
   ]
  },
  {
   "cell_type": "markdown",
   "id": "753455d0",
   "metadata": {},
   "source": [
    "## test cal score in .py"
   ]
  },
  {
   "cell_type": "code",
   "execution_count": 1,
   "id": "87cd015a",
   "metadata": {
    "ExecuteTime": {
     "end_time": "2023-11-25T05:16:19.737052Z",
     "start_time": "2023-11-25T05:16:19.726884Z"
    }
   },
   "outputs": [
    {
     "name": "stdout",
     "output_type": "stream",
     "text": [
      "/Users/apple-b/Desktop/ubco_mds/data533/Quizzer\n"
     ]
    }
   ],
   "source": [
    "cd .."
   ]
  },
  {
   "cell_type": "code",
   "execution_count": 2,
   "id": "58475e98",
   "metadata": {
    "ExecuteTime": {
     "end_time": "2023-11-25T05:16:19.743122Z",
     "start_time": "2023-11-25T05:16:19.738998Z"
    }
   },
   "outputs": [],
   "source": [
    "from quizzes.quiz import Quiz\n",
    "import time\n",
    "\n"
   ]
  },
  {
   "cell_type": "code",
   "execution_count": 3,
   "id": "520b3c32",
   "metadata": {
    "ExecuteTime": {
     "end_time": "2023-11-25T05:16:20.791018Z",
     "start_time": "2023-11-25T05:16:19.900199Z"
    },
    "scrolled": true
   },
   "outputs": [
    {
     "name": "stdout",
     "output_type": "stream",
     "text": [
      "1) It is common for people who are waiting together to engage in small talk.\n",
      "1) True\n",
      "2) False\n",
      "Your selection? 1\n",
      "\n",
      "\n",
      "2) Religion is usually considered a \"safe\" topic for small talk.\n",
      "1) True\n",
      "2) False\n",
      "Your selection? 1\n",
      "\n",
      "\n"
     ]
    }
   ],
   "source": [
    "quiz_obj = Quiz(json_filename='db_quizzes/english-speaking-small-talk_quiz.json')\n",
    "\n",
    "# set start time\n",
    "time_start = quiz_obj.log_start_time()\n",
    "\n",
    "# run quiz\n",
    "for idx_q, quest_obj in enumerate(quiz_obj.list_question_obj[:2]):\n",
    "\n",
    "    # get question from obj.\n",
    "    question = quest_obj.question\n",
    "    print(f'{idx_q+1})', question)\n",
    "    \n",
    "    # get choices from obj.\n",
    "    list_choices = quest_obj.choices\n",
    "    for idx_c, choice in enumerate(list_choices):\n",
    "        print(f'{idx_c+1})', choice)\n",
    "        \n",
    "    # get answer from user\n",
    "    answer_slctd = input(\"Your selection? \")\n",
    "    time_ans = time.time()\n",
    "    \n",
    "    # convert number to choice text, support only integer\n",
    "    answer_slctd_covert = quest_obj.choices[int(answer_slctd)-1]\n",
    "    \n",
    "    # store the answer and time timestamp\n",
    "    quiz_obj.log_answers(answer_slctd_covert, time_ans)  # log the answer\n",
    "    \n",
    "    print('\\n')"
   ]
  },
  {
   "cell_type": "code",
   "execution_count": 4,
   "id": "2653fba9",
   "metadata": {
    "ExecuteTime": {
     "end_time": "2023-11-25T05:16:21.783367Z",
     "start_time": "2023-11-25T05:16:21.770725Z"
    }
   },
   "outputs": [
    {
     "data": {
      "text/plain": [
       "['True', 'True']"
      ]
     },
     "execution_count": 4,
     "metadata": {},
     "output_type": "execute_result"
    }
   ],
   "source": [
    "quiz_obj.list_answers"
   ]
  },
  {
   "cell_type": "code",
   "execution_count": 5,
   "id": "e870632e",
   "metadata": {
    "ExecuteTime": {
     "end_time": "2023-11-25T05:16:21.978795Z",
     "start_time": "2023-11-25T05:16:21.972111Z"
    }
   },
   "outputs": [
    {
     "data": {
      "text/plain": [
       "[1700889380.469704, 1700889380.7888498]"
      ]
     },
     "execution_count": 5,
     "metadata": {},
     "output_type": "execute_result"
    }
   ],
   "source": [
    "quiz_obj.list_time_at_ans"
   ]
  },
  {
   "cell_type": "code",
   "execution_count": 6,
   "id": "0630498a",
   "metadata": {
    "ExecuteTime": {
     "end_time": "2023-11-25T05:16:22.201306Z",
     "start_time": "2023-11-25T05:16:22.195809Z"
    }
   },
   "outputs": [
    {
     "data": {
      "text/plain": [
       "1700889379.9049401"
      ]
     },
     "execution_count": 6,
     "metadata": {},
     "output_type": "execute_result"
    }
   ],
   "source": [
    "quiz_obj.time_start"
   ]
  },
  {
   "cell_type": "code",
   "execution_count": 7,
   "id": "ba971bc9",
   "metadata": {
    "ExecuteTime": {
     "end_time": "2023-11-25T05:16:22.356138Z",
     "start_time": "2023-11-25T05:16:22.352961Z"
    }
   },
   "outputs": [],
   "source": [
    "score_user = quiz_obj.cal_score()"
   ]
  },
  {
   "cell_type": "code",
   "execution_count": 8,
   "id": "c9256a19",
   "metadata": {
    "ExecuteTime": {
     "end_time": "2023-11-25T05:16:22.631307Z",
     "start_time": "2023-11-25T05:16:22.627476Z"
    }
   },
   "outputs": [
    {
     "name": "stdout",
     "output_type": "stream",
     "text": [
      "Your quiz score is: 11.62 points\n"
     ]
    }
   ],
   "source": [
    "print(f\"Your quiz score is: {score_user:.02f} points\")"
   ]
  },
  {
   "cell_type": "markdown",
   "id": "98bec131",
   "metadata": {},
   "source": [
    "# etc.\n"
   ]
  },
  {
   "cell_type": "code",
   "execution_count": 1,
   "id": "1a2f16d7",
   "metadata": {
    "ExecuteTime": {
     "end_time": "2023-11-24T06:32:00.389260Z",
     "start_time": "2023-11-24T06:32:00.383003Z"
    }
   },
   "outputs": [
    {
     "name": "stdout",
     "output_type": "stream",
     "text": [
      "/Users/apple-b/Desktop/ubco_mds/data533/Quizzer\n"
     ]
    }
   ],
   "source": [
    "cd .."
   ]
  },
  {
   "cell_type": "code",
   "execution_count": 2,
   "id": "51589f4b",
   "metadata": {
    "ExecuteTime": {
     "end_time": "2023-11-24T06:32:00.517725Z",
     "start_time": "2023-11-24T06:32:00.513890Z"
    }
   },
   "outputs": [],
   "source": [
    "import json\n",
    "f = open('db_quizzes/english-speaking-small-talk_quiz.json')\n",
    "data = json.load(f)\n",
    "f.close()"
   ]
  },
  {
   "cell_type": "code",
   "execution_count": 3,
   "id": "8fc983ba",
   "metadata": {
    "ExecuteTime": {
     "end_time": "2023-11-24T06:32:00.684165Z",
     "start_time": "2023-11-24T06:32:00.675471Z"
    }
   },
   "outputs": [
    {
     "data": {
      "text/plain": [
       "4"
      ]
     },
     "execution_count": 3,
     "metadata": {},
     "output_type": "execute_result"
    }
   ],
   "source": [
    "len(data)"
   ]
  },
  {
   "cell_type": "code",
   "execution_count": 4,
   "id": "e045eb10",
   "metadata": {
    "ExecuteTime": {
     "end_time": "2023-11-24T06:32:00.851796Z",
     "start_time": "2023-11-24T06:32:00.843955Z"
    }
   },
   "outputs": [],
   "source": [
    "from quizzes.questions import MCQuestion, TFQuestion"
   ]
  },
  {
   "cell_type": "code",
   "execution_count": 5,
   "id": "dc5ddfc3",
   "metadata": {
    "ExecuteTime": {
     "end_time": "2023-11-24T06:32:00.996541Z",
     "start_time": "2023-11-24T06:32:00.992625Z"
    }
   },
   "outputs": [
    {
     "name": "stdout",
     "output_type": "stream",
     "text": [
      "{'type': 'tf', 'points': '1', 'text': 'It is common for people who are waiting together to engage in small talk.', 'answer': 'True', 'choices': {'1': 'True', '2': 'False'}}\n"
     ]
    }
   ],
   "source": [
    "for i in data['questions'][:1]:\n",
    "    print(i)"
   ]
  },
  {
   "cell_type": "code",
   "execution_count": 8,
   "id": "29a611aa",
   "metadata": {
    "ExecuteTime": {
     "end_time": "2023-11-24T06:34:24.628705Z",
     "start_time": "2023-11-24T06:34:24.625657Z"
    }
   },
   "outputs": [],
   "source": [
    "# a = MCQuestion(i)\n",
    "# print(a.type)\n",
    "# print(a.points)\n",
    "# print(a.question)\n",
    "# print(a.answer)\n",
    "# print(a.choices)\n",
    "# a = TFQuestion(i)\n",
    "# print(a.type)\n",
    "# print(a.points)\n",
    "# print(a.question)\n",
    "# print(a.answer)\n",
    "# print(a.choices)\n"
   ]
  },
  {
   "cell_type": "code",
   "execution_count": null,
   "id": "98744893",
   "metadata": {},
   "outputs": [],
   "source": []
  },
  {
   "cell_type": "code",
   "execution_count": null,
   "id": "5962bc87",
   "metadata": {},
   "outputs": [],
   "source": []
  },
  {
   "cell_type": "code",
   "execution_count": null,
   "id": "583e41a3",
   "metadata": {},
   "outputs": [],
   "source": []
  }
 ],
 "metadata": {
  "kernelspec": {
   "display_name": "Python 3 (ipykernel)",
   "language": "python",
   "name": "python3"
  },
  "language_info": {
   "codemirror_mode": {
    "name": "ipython",
    "version": 3
   },
   "file_extension": ".py",
   "mimetype": "text/x-python",
   "name": "python",
   "nbconvert_exporter": "python",
   "pygments_lexer": "ipython3",
   "version": "3.9.6"
  },
  "toc": {
   "base_numbering": 1,
   "nav_menu": {},
   "number_sections": true,
   "sideBar": true,
   "skip_h1_title": false,
   "title_cell": "Table of Contents",
   "title_sidebar": "Contents",
   "toc_cell": false,
   "toc_position": {
    "height": "calc(100% - 180px)",
    "left": "10px",
    "top": "150px",
    "width": "165px"
   },
   "toc_section_display": true,
   "toc_window_display": false
  }
 },
 "nbformat": 4,
 "nbformat_minor": 5
}
