{
 "cells": [
  {
   "cell_type": "code",
   "execution_count": 1,
   "id": "7a7f1d46",
   "metadata": {
    "ExecuteTime": {
     "end_time": "2023-11-24T05:44:51.765406Z",
     "start_time": "2023-11-24T05:44:51.762449Z"
    }
   },
   "outputs": [],
   "source": [
    "# go to the main folder first as you are in the notebook_files folder\n",
    "# using cd .."
   ]
  },
  {
   "cell_type": "markdown",
   "id": "85773a06",
   "metadata": {},
   "source": [
    "# get all quiz names"
   ]
  },
  {
   "cell_type": "code",
   "execution_count": 2,
   "id": "ae0d5c67",
   "metadata": {
    "ExecuteTime": {
     "end_time": "2023-11-24T05:44:51.773150Z",
     "start_time": "2023-11-24T05:44:51.768258Z"
    }
   },
   "outputs": [
    {
     "name": "stdout",
     "output_type": "stream",
     "text": [
      "/Users/apple-b/Desktop/ubco_mds/data533/Quizzer\n"
     ]
    }
   ],
   "source": [
    "cd .."
   ]
  },
  {
   "cell_type": "code",
   "execution_count": 3,
   "id": "f3b9fb08",
   "metadata": {
    "ExecuteTime": {
     "end_time": "2023-11-24T05:44:51.780699Z",
     "start_time": "2023-11-24T05:44:51.775072Z"
    }
   },
   "outputs": [],
   "source": [
    "import os\n",
    "from ui_qmanager.quiz_manager import QuizManager"
   ]
  },
  {
   "cell_type": "code",
   "execution_count": 4,
   "id": "adb0f010",
   "metadata": {
    "ExecuteTime": {
     "end_time": "2023-11-24T05:44:51.785329Z",
     "start_time": "2023-11-24T05:44:51.782408Z"
    }
   },
   "outputs": [],
   "source": [
    "qm = QuizManager()"
   ]
  },
  {
   "cell_type": "code",
   "execution_count": 5,
   "id": "c3227970",
   "metadata": {
    "ExecuteTime": {
     "end_time": "2023-11-24T05:44:51.796919Z",
     "start_time": "2023-11-24T05:44:51.789179Z"
    }
   },
   "outputs": [
    {
     "data": {
      "text/plain": [
       "['Computer Vocabulary Quiz',\n",
       " 'Time Vocabulary Quiz',\n",
       " 'Speaking About the Weather Quiz',\n",
       " 'Weather Vocabulary Quiz',\n",
       " 'Time Collocations Quiz',\n",
       " 'Animal Vocabulary Quiz',\n",
       " 'Small Talk Quiz',\n",
       " 'Countries and Nationality Quiz',\n",
       " 'Criminals Vocabulary Quiz',\n",
       " 'Family Vocabulary Quiz',\n",
       " 'North, South, East and West Quiz',\n",
       " 'Numbers Vocabulary Quiz',\n",
       " 'Christmas Vocabulary Quiz']"
      ]
     },
     "execution_count": 5,
     "metadata": {},
     "output_type": "execute_result"
    }
   ],
   "source": [
    "qm.get_all_quiz_name()"
   ]
  },
  {
   "cell_type": "markdown",
   "id": "7edcf1a3",
   "metadata": {},
   "source": [
    "# parse data to question objects"
   ]
  },
  {
   "cell_type": "code",
   "execution_count": 1,
   "id": "4cf97282",
   "metadata": {
    "ExecuteTime": {
     "end_time": "2023-11-24T06:37:05.570217Z",
     "start_time": "2023-11-24T06:37:05.563587Z"
    }
   },
   "outputs": [
    {
     "name": "stdout",
     "output_type": "stream",
     "text": [
      "/Users/apple-b/Desktop/ubco_mds/data533/Quizzer\n"
     ]
    }
   ],
   "source": [
    "cd .."
   ]
  },
  {
   "cell_type": "code",
   "execution_count": 2,
   "id": "77805edc",
   "metadata": {
    "ExecuteTime": {
     "end_time": "2023-11-24T06:37:05.728393Z",
     "start_time": "2023-11-24T06:37:05.719483Z"
    }
   },
   "outputs": [],
   "source": [
    "from quizzes.quiz_parser import *"
   ]
  },
  {
   "cell_type": "code",
   "execution_count": 4,
   "id": "66aaf9b5",
   "metadata": {
    "ExecuteTime": {
     "end_time": "2023-11-24T06:38:25.155728Z",
     "start_time": "2023-11-24T06:38:25.152021Z"
    }
   },
   "outputs": [],
   "source": [
    "list_questions = create_quiz_obj('db_quizzes/english-speaking-small-talk_quiz.json')"
   ]
  },
  {
   "cell_type": "code",
   "execution_count": 12,
   "id": "2e35b8a7",
   "metadata": {
    "ExecuteTime": {
     "end_time": "2023-11-24T06:39:21.767337Z",
     "start_time": "2023-11-24T06:39:21.763402Z"
    }
   },
   "outputs": [
    {
     "name": "stdout",
     "output_type": "stream",
     "text": [
      "Question 1) It is common for people who are waiting together to engage in small talk. \n",
      "\n",
      "Question 2) Religion is usually considered a \"safe\" topic for small talk. \n",
      "\n",
      "Question 3) Children are taught not to speak to strangers who engage them in small talk. \n",
      "\n",
      "Question 4) It is rude to make small talk with someone who's delivering your mail. \n",
      "\n",
      "Question 5) Sport is not usually a \"safe\" topic for small talk. \n",
      "\n",
      "Question 6) When making small talk, complimenting someone's clothes or hairstyle is usually acceptable. \n",
      "\n",
      "Question 7) Divisive topics like politics are usually considered unsuitable for small talk. \n",
      "\n",
      "Question 8) It is common to talk about the weather while sharing an elevator. \n",
      "\n",
      "Question 9) It is polite to interrupt a conversation in order to make small talk. \n",
      "\n",
      "Question 10) People often use small talk to fill an uncomfortable silence.  \n",
      "\n"
     ]
    }
   ],
   "source": [
    "for idx, i in enumerate(list_questions):\n",
    "    print(f'Question {idx+1})', i.question, '\\n')"
   ]
  },
  {
   "cell_type": "markdown",
   "id": "98bec131",
   "metadata": {},
   "source": [
    "# etc.\n"
   ]
  },
  {
   "cell_type": "code",
   "execution_count": 1,
   "id": "1a2f16d7",
   "metadata": {
    "ExecuteTime": {
     "end_time": "2023-11-24T06:32:00.389260Z",
     "start_time": "2023-11-24T06:32:00.383003Z"
    }
   },
   "outputs": [
    {
     "name": "stdout",
     "output_type": "stream",
     "text": [
      "/Users/apple-b/Desktop/ubco_mds/data533/Quizzer\n"
     ]
    }
   ],
   "source": [
    "cd .."
   ]
  },
  {
   "cell_type": "code",
   "execution_count": 2,
   "id": "51589f4b",
   "metadata": {
    "ExecuteTime": {
     "end_time": "2023-11-24T06:32:00.517725Z",
     "start_time": "2023-11-24T06:32:00.513890Z"
    }
   },
   "outputs": [],
   "source": [
    "import json\n",
    "f = open('db_quizzes/english-speaking-small-talk_quiz.json')\n",
    "data = json.load(f)\n",
    "f.close()"
   ]
  },
  {
   "cell_type": "code",
   "execution_count": 3,
   "id": "8fc983ba",
   "metadata": {
    "ExecuteTime": {
     "end_time": "2023-11-24T06:32:00.684165Z",
     "start_time": "2023-11-24T06:32:00.675471Z"
    }
   },
   "outputs": [
    {
     "data": {
      "text/plain": [
       "4"
      ]
     },
     "execution_count": 3,
     "metadata": {},
     "output_type": "execute_result"
    }
   ],
   "source": [
    "len(data)"
   ]
  },
  {
   "cell_type": "code",
   "execution_count": 4,
   "id": "e045eb10",
   "metadata": {
    "ExecuteTime": {
     "end_time": "2023-11-24T06:32:00.851796Z",
     "start_time": "2023-11-24T06:32:00.843955Z"
    }
   },
   "outputs": [],
   "source": [
    "from quizzes.questions import MCQuestion, TFQuestion"
   ]
  },
  {
   "cell_type": "code",
   "execution_count": 5,
   "id": "dc5ddfc3",
   "metadata": {
    "ExecuteTime": {
     "end_time": "2023-11-24T06:32:00.996541Z",
     "start_time": "2023-11-24T06:32:00.992625Z"
    }
   },
   "outputs": [
    {
     "name": "stdout",
     "output_type": "stream",
     "text": [
      "{'type': 'tf', 'points': '1', 'text': 'It is common for people who are waiting together to engage in small talk.', 'answer': 'True', 'choices': {'1': 'True', '2': 'False'}}\n"
     ]
    }
   ],
   "source": [
    "for i in data['questions'][:1]:\n",
    "    print(i)"
   ]
  },
  {
   "cell_type": "code",
   "execution_count": 8,
   "id": "29a611aa",
   "metadata": {
    "ExecuteTime": {
     "end_time": "2023-11-24T06:34:24.628705Z",
     "start_time": "2023-11-24T06:34:24.625657Z"
    }
   },
   "outputs": [],
   "source": [
    "# a = MCQuestion(i)\n",
    "# print(a.type)\n",
    "# print(a.points)\n",
    "# print(a.question)\n",
    "# print(a.answer)\n",
    "# print(a.choices)\n",
    "# a = TFQuestion(i)\n",
    "# print(a.type)\n",
    "# print(a.points)\n",
    "# print(a.question)\n",
    "# print(a.answer)\n",
    "# print(a.choices)\n"
   ]
  },
  {
   "cell_type": "code",
   "execution_count": null,
   "id": "98744893",
   "metadata": {},
   "outputs": [],
   "source": []
  },
  {
   "cell_type": "code",
   "execution_count": null,
   "id": "5962bc87",
   "metadata": {},
   "outputs": [],
   "source": []
  },
  {
   "cell_type": "code",
   "execution_count": null,
   "id": "583e41a3",
   "metadata": {},
   "outputs": [],
   "source": []
  }
 ],
 "metadata": {
  "kernelspec": {
   "display_name": "Python 3 (ipykernel)",
   "language": "python",
   "name": "python3"
  },
  "language_info": {
   "codemirror_mode": {
    "name": "ipython",
    "version": 3
   },
   "file_extension": ".py",
   "mimetype": "text/x-python",
   "name": "python",
   "nbconvert_exporter": "python",
   "pygments_lexer": "ipython3",
   "version": "3.9.6"
  },
  "toc": {
   "base_numbering": 1,
   "nav_menu": {},
   "number_sections": true,
   "sideBar": true,
   "skip_h1_title": false,
   "title_cell": "Table of Contents",
   "title_sidebar": "Contents",
   "toc_cell": false,
   "toc_position": {
    "height": "calc(100% - 180px)",
    "left": "10px",
    "top": "150px",
    "width": "165px"
   },
   "toc_section_display": true,
   "toc_window_display": true
  }
 },
 "nbformat": 4,
 "nbformat_minor": 5
}
