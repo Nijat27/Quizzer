{
 "cells": [
  {
   "cell_type": "code",
   "execution_count": 140,
   "id": "aea3e6fa",
   "metadata": {
    "ExecuteTime": {
     "end_time": "2023-11-22T05:45:23.338159Z",
     "start_time": "2023-11-22T05:45:23.335006Z"
    }
   },
   "outputs": [],
   "source": [
    "import requests\n",
    "from bs4 import BeautifulSoup\n",
    "\n",
    "import pandas as pd"
   ]
  },
  {
   "cell_type": "code",
   "execution_count": 164,
   "id": "26f2cfe1",
   "metadata": {
    "ExecuteTime": {
     "end_time": "2023-11-22T05:53:03.566734Z",
     "start_time": "2023-11-22T05:53:03.015721Z"
    }
   },
   "outputs": [],
   "source": [
    "URL = \"https://www.englishclub.com/esl-quizzes/vocabulary/\"\n",
    "page = requests.get(URL)\n",
    "\n",
    "soup = BeautifulSoup(page.content, \"html.parser\")"
   ]
  },
  {
   "cell_type": "code",
   "execution_count": 166,
   "id": "ef1ccbf0",
   "metadata": {
    "ExecuteTime": {
     "end_time": "2023-11-22T05:53:12.214966Z",
     "start_time": "2023-11-22T05:53:12.195455Z"
    }
   },
   "outputs": [
    {
     "data": {
      "text/plain": [
       "[<li><a href=\"fixed-expressions-quiz-1.php\">Fixed Expressions Quiz 1</a></li>,\n",
       " <li><a href=\"fixed-expressions-quiz-2.php\">Fixed Expressions Quiz 2</a></li>,\n",
       " <li><a href=\"fixed-expressions-quiz-3.php\">Fixed Expressions Quiz 3</a></li>,\n",
       " <li><a href=\"fixed-expressions-quiz-4.php\">Fixed Expressions Quiz 4</a></li>,\n",
       " <li><a href=\"fixed-expressions-quiz-5.php\">Fixed Expressions Quiz 5</a></li>,\n",
       " <li><a href=\"fixed-expressions-quiz-6.php\">Fixed Expressions Quiz 6</a></li>,\n",
       " <li><a href=\"fixed-expressions-quiz-7.php\">Fixed Expressions Quiz 7</a></li>,\n",
       " <li><a href=\"fixed-expressions-quiz-8.php\">Fixed Expressions Quiz 8</a></li>,\n",
       " <li><a href=\"fixed-expressions-quiz-9.php\">Fixed Expressions Quiz 9</a></li>,\n",
       " <li><a href=\"fixed-expressions-quiz-10.php\">Fixed Expressions Quiz 10</a></li>,\n",
       " <li><a href=\"/vocabulary/animal-terms-easy-quiz.php\">Animal Terms (short list) Quiz</a></li>,\n",
       " <li><a href=\"/vocabulary/animal-terms-quiz.php\">Animal Vocabulary Quiz</a></li>,\n",
       " <li><a href=\"/vocabulary/festivals-christmas-quiz.php\">Christmas Vocabulary Quiz</a></li>,\n",
       " <li><a href=\"/vocabulary/computer-quiz.php\">Computer Vocabulary Quiz</a></li>,\n",
       " <li><a href=\"/vocabulary/world-countries-nationality-quiz.php\">Countries and Nationality Quiz</a></li>,\n",
       " <li><a href=\"/vocabulary/criminals-quiz.php\">Criminals Vocabulary Quiz</a></li>,\n",
       " <li><a href=\"/vocabulary/family-quiz.php\">Family Vocabulary Quiz</a></li>,\n",
       " <li><a href=\"/vocabulary/nsew-quiz.php\">North, South, East &amp; West Vocabulary Quiz</a></li>,\n",
       " <li><a href=\"/vocabulary/numbers-quiz.php\">Numbers Vocabulary Quiz</a></li>,\n",
       " <li><a href=\"/speaking/small-talk_quiz.php\">Small Talk Vocabulary Quiz</a></li>,\n",
       " <li><a href=\"/vocabulary/collocations-quiz-time.php\">Time Collocations Quiz</a></li>,\n",
       " <li><a href=\"/vocabulary/time-quiz.php\">Time Vocabulary Quiz</a></li>,\n",
       " <li><a href=\"/speaking/weather-vocabulary-quiz.php\">Speaking About the Weather Quiz</a></li>,\n",
       " <li><a href=\"/vocabulary/weather-vocabulary-quiz.php\">Weather Vocabulary Quiz</a></li>,\n",
       " <li><a href=\"/reading/environment/honeybee-quiz.php\">Disappearing Honeybee Vocabulary Quiz</a></li>,\n",
       " <li><a href=\"/reading/environment/eco-community-quiz.php\">Eco-Communities Vocabulary Quiz</a></li>,\n",
       " <li><a href=\"../../reading/environment/endangered-species-quiz.php\">Endangered Species Vocabulary Quiz</a></li>,\n",
       " <li><a href=\"/reading/environment/environment-verbs-quiz.php\">Environment Vocabulary Quiz</a></li>,\n",
       " <li><a href=\"../../reading/environment/pollution-quiz.php\">Pollution Vocabulary Quiz</a></li>,\n",
       " <li><a href=\"/vocabulary/food-types-quiz.php\">Types of Food Quiz</a></li>,\n",
       " <li><a href=\"/vocabulary/food-cooking-quiz.php\">Cooking Vocabulary Quiz</a></li>,\n",
       " <li><a href=\"/vocabulary/food-kitchens-quiz.php\">Kitchens and Kitchenware Quiz</a></li>,\n",
       " <li><a href=\"/vocabulary/food-dining-quiz.php\">Dining Vocabulary Quiz</a></li>,\n",
       " <li><a href=\"/vocabulary/food-restaurants-quiz.php\">Restaurant Vocabulary Quiz</a></li>,\n",
       " <li><a href=\"/vocabulary/food-health-quiz.php\">Food and Health Quiz</a></li>,\n",
       " <li><a href=\"/reading/health/organic-quiz.php\">Organic Foods Quiz</a></li>,\n",
       " <li><a href=\"/reading/health/trans-fats-quiz.php\">Trans Fats Quiz</a></li>,\n",
       " <li><a href=\"/vocabulary/food-british-quiz.php\">British Food Vocabulary Quiz</a></li>,\n",
       " <li><a href=\"/vocabulary/food-chinese-quiz.php\">Chinese Food Vocabulary Quiz</a></li>,\n",
       " <li><a href=\"/vocabulary/food-french-quiz.php\">French Food Vocabulary Quiz</a></li>,\n",
       " <li><a href=\"/vocabulary/food-indian-quiz.php\">Indian Food Vocabulary Quiz</a></li>,\n",
       " <li><a href=\"/vocabulary/food-italian-quiz.php\">Italian Food Vocabulary Quiz</a></li>,\n",
       " <li><a href=\"/vocabulary/food-mexican-quiz.php\">Mexican Food Vocabulary Quiz</a></li>,\n",
       " <li><a href=\"/vocabulary/food-thai-quiz.php\">Thai Food Vocabulary Quiz</a></li>,\n",
       " <li><a href=\"/vocabulary/movies-action-quiz.php\">Action Movies Quiz</a></li>,\n",
       " <li><a href=\"/vocabulary/movies-comedy-quiz.php\">Comedy Movies Quiz</a></li>,\n",
       " <li><a href=\"/vocabulary/movies-drama-quiz.php\">Drama Movies Quiz</a></li>,\n",
       " <li><a href=\"/vocabulary/movies-historical-quiz.php\">Historical Drama Movies Quiz</a></li>,\n",
       " <li><a href=\"/vocabulary/movies-horror-quiz.php\">Horror Movies Quiz</a></li>,\n",
       " <li><a href=\"/vocabulary/movies-documentary-quiz.php\">Documentary Films Quiz</a></li>,\n",
       " <li><a href=\"/vocabulary/movies-sci-fi-quiz.php\">Science Fiction Movies Quiz</a></li>,\n",
       " <li><a href=\"/vocabulary/tv-series-quiz.php\">TV Series Quiz</a></li>,\n",
       " <li><a href=\"/vocabulary/music-country-quiz.php\">Country Music Quiz</a></li>,\n",
       " <li><a href=\"/vocabulary/music-dance-quiz.php\">Dance Music Quiz</a></li>,\n",
       " <li><a href=\"/vocabulary/music-hip-hop-quiz.php\">Hip Hop &amp; Rap Quiz</a></li>,\n",
       " <li><a href=\"/vocabulary/music-popular-quiz.php\">Popular Music Genres Quiz</a></li>,\n",
       " <li><a href=\"/vocabulary/music-rock-quiz.php\">Rock Music Quiz</a></li>,\n",
       " <li><a href=\"/vocabulary/music-soul-quiz.php\">Soul Music Quiz</a></li>,\n",
       " <li><a href=\"/vocabulary/sports-athletics-quiz-vocab.php\">Athletics Vocabulary Quiz</a></li>,\n",
       " <li><a href=\"/vocabulary/sports-badminton-quiz-vocab.php\">Badminton Vocabulary Quiz</a></li>,\n",
       " <li><a href=\"/vocabulary/sports-baseball-quiz-vocab.php\">Baseball Vocabulary Quiz</a></li>,\n",
       " <li><a href=\"/vocabulary/sports-basketball-quiz-vocab.php\">Basketball Vocabulary Quiz</a></li>,\n",
       " <li><a href=\"/vocabulary/sports-boxing-quiz-vocab.php\">Boxing Vocabulary Quiz</a></li>,\n",
       " <li><a href=\"/vocabulary/sports-cricket-quiz-vocab.php\">Cricket Vocabulary Quiz</a></li>,\n",
       " <li><a href=\"/vocabulary/sports-figure-skating-quiz-vocab.php\">Figure Skating Vocabulary Quiz</a></li>,\n",
       " <li><a href=\"/vocabulary/sports-football-world-cup-quiz.php\">FIFA World Cup Quiz</a></li>,\n",
       " <li><a href=\"/vocabulary/sports-football-world-cup-2018-russia-quiz.php\">2018 FIFA World Cup Quiz</a></li>,\n",
       " <li><a href=\"/vocabulary/sports-football-quiz-vocab.php\">Football Vocabulary Quiz</a></li>,\n",
       " <li><a href=\"/vocabulary/sports-quiz-vocabulary.php\">General Sports Vocabulary Quiz</a></li>,\n",
       " <li><a href=\"/vocabulary/sports-golf-quiz-vocab.php\">Golf Vocabulary Quiz</a></li>,\n",
       " <li><a href=\"/vocabulary/sports-gymnastics-quiz-vocab.php\">Gymnastics Vocabulary Quiz</a></li>,\n",
       " <li><a href=\"/vocabulary/sports-hockey-quiz-vocab.php\">Hockey Vocabulary Quiz</a></li>,\n",
       " <li><a href=\"/vocabulary/sports-ice-hockey-quiz-vocab.php\">Ice Hockey Vocabulary Quiz</a></li>,\n",
       " <li><a href=\"/vocabulary/sports-olympics-quiz-vocab.php\">Olympics Vocabulary Quiz</a></li>,\n",
       " <li><a href=\"/vocabulary/sports-olympics-2016-rio-quiz.php\">2016 Rio Olympics Quiz</a></li>,\n",
       " <li><a href=\"/vocabulary/sports-rugby-quiz-vocab.php\">Rugby Vocabulary Quiz</a></li>,\n",
       " <li><a href=\"/vocabulary/sports-skiing-quiz-vocab.php\">Skiing Vocabulary Quiz</a></li>,\n",
       " <li><a href=\"/vocabulary/sports-quiz-facts.php\">Sports General Knowledge Quiz</a></li>,\n",
       " <li><a href=\"/vocabulary/sports-squash-quiz-vocab.php\">Squash Vocabulary Quiz</a></li>,\n",
       " <li><a href=\"/vocabulary/sports-swimming-quiz-vocab.php\">Swimming Vocabulary Quiz</a></li>,\n",
       " <li><a href=\"/vocabulary/sports-tennis-quiz-vocab.php\">Tennis Vocabulary Quiz</a></li>,\n",
       " <li><a href=\"/english-for-work/airline-vocabulary-quiz.php\">Airline Industry Vocabulary Quiz</a></li>,\n",
       " <li><a href=\"/english-for-work/cashier-vocabulary-quiz.php\">Cashiers Vocabulary Quiz</a></li>,\n",
       " <li><a href=\"/english-for-work/police-crime-quiz.php\">Crime and Punishment Quiz </a></li>,\n",
       " <li><a href=\"/english-for-work/food-drink-vocabulary-quiz.php\">Food and Drink Vocabulary Quiz</a></li>,\n",
       " <li><a href=\"/english-for-work/hotel-vocabulary-quiz.php\">Hotel Vocabulary Quiz</a></li>,\n",
       " <li><a href=\"/english-for-work/housekeeping-vocabulary-quiz.php\">Housekeeping Vocabulary Quiz</a></li>,\n",
       " <li><a href=\"/english-for-work/housekeeping-instructions-quiz.php\">Housekeeping Instructions Audio Quiz</a></li>,\n",
       " <li><a href=\"/english-for-work/medical-body-quiz.php\">Human Body Vocabulary Quiz</a></li>,\n",
       " <li><a href=\"/english-for-work/medical-vocabulary-quiz.php\">Medical Vocabulary Quiz</a></li>,\n",
       " <li><a href=\"/english-for-work/medical-specialists-quiz.php\">Medical Specialists and Referrals Quiz</a></li>,\n",
       " <li><a href=\"/business-english/meetings-test.php\">Meeting Skills Test</a></li>,\n",
       " <li><a href=\"/business-english/meetings-vocabulary-quiz.php\">Meetings Vocabulary Quiz</a></li>,\n",
       " <li><a href=\"/business-english/negotiations-vocabulary-quiz.php\">Negotiations Vocabulary Quiz</a></li>,\n",
       " <li><a href=\"/english-for-work/police-vocabulary-quiz.php\">Police/Crime Vocabulary Quiz</a></li>,\n",
       " <li><a href=\"/speaking/presentations-test.php\">Presentations Test</a></li>,\n",
       " <li><a href=\"/english-for-work/food-drink-serving.php\">Serving at Table Quiz</a></li>,\n",
       " <li><a href=\"/speaking/telephone-quiz.php\">Telephone English Vocabulary Quiz</a></li>,\n",
       " <li><a href=\"/english-for-work/tour-guide-vocabulary-quiz.php\">Tour Guide Vocabulary Quiz</a></li>,\n",
       " <li><a href=\"/english-for-work/food-drink-guests.php\">Understanding Your (Restaurant) Guests Quiz </a></li>,\n",
       " <li><a href=\"/writing/abbreviations-quiz.php\">Abbreviations Quiz</a></li>,\n",
       " <li><a href=\"measure-words-quiz-1.php\">Measure Words Quizzes</a> (2 sets of 10)</li>,\n",
       " <li><a href=\"/vocabulary/prefixes-quiz.php\">Prefixes Quiz</a></li>,\n",
       " <li><a href=\"/vocabulary/suffixes-quiz.php\">Suffixes Quiz</a></li>,\n",
       " <li><a href=\"/vocabulary/wh-question-words-quiz.php\">WH Question Words Quiz</a></li>,\n",
       " <li><a href=\"/vocabulary/mono-poly-quiz.php\">Words starting with mono- and poly- Quiz</a></li>,\n",
       " <li><a href=\"/esl-quizzes/vocabulary/irregular-verbs-quiz-1.php\">Irregular Verbs Quizzes</a> (8 sets of 10)</li>,\n",
       " <li><a href=\"/ref/Phrasal_Verbs/Quizzes/\">Phrasal Verbs Quizzes</a> (36 sets of 10)</li>,\n",
       " <li><a href=\"/vocabulary/phrasal-verbs-quiz.php\">Phrasal Verbs Quiz</a></li>,\n",
       " <li><a href=\"/grammar/verbs-classification-quiz.php\">Verb Classification Quiz</a></li>,\n",
       " <li><a href=\"/esl-quizzes/vocabulary-3-phrasal-verbs.php\">Phrasal Verbs Quizzes</a> (2 sets of 10)</li>,\n",
       " <li><a href=\"/ref/Nouns_that_are_Count_and_Noncount/\">Nouns that are both Count and Noncount Quizzes</a></li>,\n",
       " <li><a href=\"/vocabulary/adjectives-personality-positive-quiz.php\">Positive Personality Adjectives Quiz</a><br/>\n",
       " </li>,\n",
       " <li><a href=\"/vocabulary/adjectives-personality-negative-quiz.php\">Negative Personality Adjectives Quiz</a><br/>\n",
       " </li>,\n",
       " <li><a href=\"/vocabulary/adverbs-manner-quiz.php\">Adverbs of Manner Quiz</a></li>,\n",
       " <li><a href=\"/vocabulary/adverbs-place-quiz.php\">Adverbs of Place Quiz</a></li>,\n",
       " <li><a href=\"/vocabulary/adverbs-time-quiz.php\">Adverbs of Time Quiz</a></li>,\n",
       " <li><a href=\"/vocabulary/adverbs-degree-quiz.php\">Adverbs of Degree Quiz</a></li>,\n",
       " <li><a href=\"/vocabulary/prepositions-movement-quiz.php\">Prepositions of Movement Quiz</a></li>,\n",
       " <li><a href=\"/vocabulary/prepositions-of-place-quiz.php\">Prepositions of Place Quiz</a></li>,\n",
       " <li><a href=\"/vocabulary/prepositions-quiz.php\">Prepositions Vocabulary Quiz</a></li>,\n",
       " <li><a href=\"/vocabulary/prepositions-movement-picture-quiz.php\">Prepositions of Movement Picture Quiz</a></li>,\n",
       " <li><a href=\"/ref/Idioms/Quizzes/\">Idioms Quizzes by Topic</a> (48 sets of 10)</li>,\n",
       " <li><a href=\"/vocabulary/idioms-animal-quiz.php\">Animal Idioms Quiz</a></li>,\n",
       " <li><a href=\"/vocabulary/idioms-body-quiz.php\">Body Idioms Quiz</a></li>,\n",
       " <li><a href=\"/vocabulary/idioms-colour-quiz.php\">Colour Idioms Quiz</a></li>,\n",
       " <li><a href=\"/vocabulary/idioms-clothing-quiz.php\">Clothing Idioms Quiz</a></li>,\n",
       " <li><a href=\"/vocabulary/idioms-food-quiz.php\">Food Idioms Quiz</a></li>,\n",
       " <li><a href=\"/vocabulary/idioms-geography-quiz.php\">Geography Idioms Quiz</a></li>,\n",
       " <li><a href=\"/vocabulary/idioms-sports-quiz.php\">Sports Idioms Quiz</a></li>,\n",
       " <li><a href=\"/ref/Collocations/Quizzes/\">Collocations Quizzes</a></li>,\n",
       " <li><a href=\"/vocabulary/collocations-quiz.php\">Collocations Quiz</a></li>,\n",
       " <li><a href=\"/ref/Conversational_Phrases/Quizzes/\">Conversational Phrases Quizzes</a></li>,\n",
       " <li><a href=\"/ref/Doublespeak_Examples/\">Doublespeak Quizzes</a></li>,\n",
       " <li><a href=\"/ref/Dysphemism_Examples/\">Dysphemisms Quizzes</a></li>,\n",
       " <li><a href=\"/ref/Euphemism_Examples/\">Euphemisms Quizzes</a></li>,\n",
       " <li><a href=\"/ref/List_of_Eponyms/\">Eponyms Quizzes</a></li>,\n",
       " <li><a href=\"/ref/Sayings/Quizzes/\">Sayings Quizzes</a> (24 sets of 10)</li>,\n",
       " <li><a href=\"/ref/Slang/Quizzes/\">Slang Quizzes</a> (24 sets of 10)</li>,\n",
       " <li><a href=\"/vocabulary/contractions-positive-quiz.php\">Positive Contractions Quiz</a></li>,\n",
       " <li><a href=\"/vocabulary/contractions-negative-quiz.php\">Negative Contractions Quiz</a></li>,\n",
       " <li><a href=\"/vocabulary/contractions-other-quiz.php\">Other Contractions Quiz</a></li>,\n",
       " <li><a href=\"/vocabulary/contractions-informal-quiz.php\">Informal Contractions Quiz</a></li>,\n",
       " <li><a href=\"/vocabulary/cw-most-almost-all-quiz.php\">almost OR most Quiz</a></li>,\n",
       " <li><a href=\"/vocabulary/cw-bring-take-quiz.php\">bring OR take Quiz</a></li>,\n",
       " <li><a href=\"/vocabulary/cw-unlike-dislike-quiz.php\">dislike OR unlike Quiz</a></li>,\n",
       " <li><a href=\"/vocabulary/cw-do-make-quiz.php\">do OR make Quiz</a></li>,\n",
       " <li><a href=\"/vocabulary/collocations-quiz-do-make.php\">do OR make Collocations Quiz</a></li>,\n",
       " <li><a href=\"/vocabulary/cw-uk-england-quiz.php\">England or UK Quiz</a></li>,\n",
       " <li><a href=\"/vocabulary/cw-gross-vs-net-quiz.php\">gross OR net Quiz</a></li>,\n",
       " <li><a href=\"/vocabulary/cw-hear-listen-quiz.php\">hear OR listen Quiz</a></li>,\n",
       " <li><a href=\"/vocabulary/cw-island-iceland-ireland-quiz.php\">island, Iceland OR Ireland Quiz</a></li>,\n",
       " <li><a href=\"/vocabulary/cw-its-its-quiz.php\">its OR it’s Quiz</a></li>,\n",
       " <li><a href=\"/vocabulary/cw-lie-lay-quiz.php\">lay OR lie Quiz</a></li>,\n",
       " <li><a href=\"/vocabulary/cw-lose-loose-quiz.php\">loose OR lose Quiz</a></li>,\n",
       " <li><a href=\"/vocabulary/cw-raise-rise-quiz.php\">raise OR rise Quiz</a></li>,\n",
       " <li><a href=\"/vocabulary/cw-say-tell_quiz.php\">say OR tell Quiz</a></li>,\n",
       " <li><a href=\"/vocabulary/cw-see-look-watch-quiz.php\">see, look OR watch Quiz</a></li>,\n",
       " <li><a href=\"/vocabulary/cw-there-their-they're-quiz.php\">their OR there OR they're Quiz</a></li>,\n",
       " <li><a href=\"/vocabulary/quizzes/footwear-picture-quiz.php\">Footwear Picture Quiz</a></li>,\n",
       " <li><a href=\"/vocabulary/quizzes/gym-picture-quiz.php\">Gym Equipment Picture Quiz</a></li>,\n",
       " <li><a href=\"/vocabulary/quizzes/fruits-picture-quiz.php\">Fruits Picture Quiz</a></li>,\n",
       " <li><a href=\"/vocabulary/quizzes/green-vegetables-picture-quiz.php\">Green Vegetables Picture Quiz</a></li>,\n",
       " <li><a href=\"/vocabulary/quizzes/kitchenware-picture-quiz.php\">Kitchenware Picture Quiz</a></li>,\n",
       " <li><a href=\"/vocabulary/quizzes/instruments-picture-quiz.php\">Musical Instruments Picture Quiz</a></li>,\n",
       " <li><a href=\"/vocabulary/quizzes/sports-equipment-picture-quiz.php\">Sports Equipment Picture Quiz</a></li>,\n",
       " <li><a href=\"/vocabulary/quizzes/symbols-picture-quiz.php\">Symbols Picture Quiz</a></li>,\n",
       " <li><a href=\"/vocabulary/quizzes/tableware-picture-quiz.php\">Tableware Picture Quiz</a></li>,\n",
       " <li><a href=\"../vocabulary-1-food.php\">Food Quiz 1</a></li>,\n",
       " <li><a href=\"../vocabulary-1-jobs.php\">Jobs Quiz 1</a></li>,\n",
       " <li><a href=\"../vocabulary-1-jobs-02.php\">Jobs Quiz 2</a></li>,\n",
       " <li><a href=\"../vocabulary-1-categories.php\">Categories Quiz 1</a></li>,\n",
       " <li><a href=\"../vocabulary-1-categories-02.php\">Categories Quiz 2</a></li>,\n",
       " <li><a href=\"../vocabulary-1-opposites.php\">Opposites Quiz 1</a></li>,\n",
       " <li><a href=\"../vocabulary-1-opposites-02.php\">Opposites Quiz 2</a></li>,\n",
       " <li><a href=\"../vocabulary-3-categories.php\">Categories Quiz</a></li>,\n",
       " <li><a href=\"../vocabulary-3-punctuation.php\">Punctuation Marks Quiz</a></li>,\n",
       " <li><a href=\"../vocabulary-3-trueorfalse.php\">True or False Quiz</a></li>,\n",
       " <li><a href=\"../vocabulary-3-opposites.php\">Opposites Quiz</a></li>,\n",
       " <li><a href=\"../vocabulary-3-money.php\">Money Quiz 1</a></li>,\n",
       " <li><a href=\"../vocabulary-3-money-02.php\">Money Quiz 2</a></li>,\n",
       " <li><a href=\"../vocabulary-5-animals.php\">Animals Quiz</a></li>,\n",
       " <li><a href=\"../vocabulary-5-quotations.php\">Quotations Quiz</a></li>,\n",
       " <li><a href=\"../vocabulary-5-goodbye.php\">Saying Goodbye Quiz 1</a></li>,\n",
       " <li><a href=\"../vocabulary-5-goodbye-02.php\">Saying Goodbye Quiz 2</a></li>,\n",
       " <li><a href=\"../vocabulary-5-british-american.php\">British/American Quiz 1</a></li>,\n",
       " <li><a href=\"../vocabulary-5-british-american-02.php\">British/American Quiz 2</a></li>]"
      ]
     },
     "execution_count": 166,
     "metadata": {},
     "output_type": "execute_result"
    }
   ],
   "source": [
    "soup.find_all('li')"
   ]
  },
  {
   "cell_type": "code",
   "execution_count": 179,
   "id": "a66909be",
   "metadata": {
    "ExecuteTime": {
     "end_time": "2023-11-22T05:55:11.501212Z",
     "start_time": "2023-11-22T05:55:11.496129Z"
    }
   },
   "outputs": [],
   "source": [
    "a = soup.find_all('li')[1].find('a').get('href')"
   ]
  },
  {
   "cell_type": "code",
   "execution_count": 180,
   "id": "a5fdd96b",
   "metadata": {
    "ExecuteTime": {
     "end_time": "2023-11-22T05:55:11.634263Z",
     "start_time": "2023-11-22T05:55:11.629394Z"
    }
   },
   "outputs": [
    {
     "data": {
      "text/plain": [
       "'https://www.englishclub.com/esl-quizzes/vocabulary/fixed-expressions-quiz-2.php'"
      ]
     },
     "execution_count": 180,
     "metadata": {},
     "output_type": "execute_result"
    }
   ],
   "source": [
    "URL+a"
   ]
  },
  {
   "cell_type": "code",
   "execution_count": null,
   "id": "8df4cca9",
   "metadata": {},
   "outputs": [],
   "source": []
  },
  {
   "cell_type": "code",
   "execution_count": 141,
   "id": "57e43f31",
   "metadata": {
    "ExecuteTime": {
     "end_time": "2023-11-22T05:45:23.901924Z",
     "start_time": "2023-11-22T05:45:23.470593Z"
    }
   },
   "outputs": [],
   "source": [
    "URL = 'https://www.englishclub.com/vocabulary/animal-terms-easy-quiz.php'\n",
    "page = requests.get(URL)\n",
    "\n",
    "soup = BeautifulSoup(page.content, \"html.parser\")"
   ]
  },
  {
   "cell_type": "code",
   "execution_count": 142,
   "id": "788ee339",
   "metadata": {
    "ExecuteTime": {
     "end_time": "2023-11-22T05:45:23.910888Z",
     "start_time": "2023-11-22T05:45:23.905667Z"
    }
   },
   "outputs": [],
   "source": [
    "questions = soup.find_all(\"form\", class_=\"mcquiz\")[0]\n",
    "choices = questions.find_all(\"input\")"
   ]
  },
  {
   "cell_type": "code",
   "execution_count": 144,
   "id": "609f68cb",
   "metadata": {
    "ExecuteTime": {
     "end_time": "2023-11-22T05:45:23.958117Z",
     "start_time": "2023-11-22T05:45:23.948950Z"
    }
   },
   "outputs": [
    {
     "data": {
      "text/html": [
       "<div>\n",
       "<style scoped>\n",
       "    .dataframe tbody tr th:only-of-type {\n",
       "        vertical-align: middle;\n",
       "    }\n",
       "\n",
       "    .dataframe tbody tr th {\n",
       "        vertical-align: top;\n",
       "    }\n",
       "\n",
       "    .dataframe thead th {\n",
       "        text-align: right;\n",
       "    }\n",
       "</style>\n",
       "<table border=\"1\" class=\"dataframe\">\n",
       "  <thead>\n",
       "    <tr style=\"text-align: right;\">\n",
       "      <th></th>\n",
       "      <th>question_no</th>\n",
       "      <th>question</th>\n",
       "    </tr>\n",
       "  </thead>\n",
       "  <tbody>\n",
       "    <tr>\n",
       "      <th>0</th>\n",
       "      <td>1</td>\n",
       "      <td>A male chicken is called</td>\n",
       "    </tr>\n",
       "    <tr>\n",
       "      <th>1</th>\n",
       "      <td>2</td>\n",
       "      <td>A young sheep is called</td>\n",
       "    </tr>\n",
       "    <tr>\n",
       "      <th>2</th>\n",
       "      <td>3</td>\n",
       "      <td>A female pig is called</td>\n",
       "    </tr>\n",
       "    <tr>\n",
       "      <th>3</th>\n",
       "      <td>4</td>\n",
       "      <td>A baby kangaroo is called</td>\n",
       "    </tr>\n",
       "    <tr>\n",
       "      <th>4</th>\n",
       "      <td>5</td>\n",
       "      <td>A tigress is a _______ tiger.</td>\n",
       "    </tr>\n",
       "    <tr>\n",
       "      <th>5</th>\n",
       "      <td>6</td>\n",
       "      <td>A foal is a _______ horse.</td>\n",
       "    </tr>\n",
       "    <tr>\n",
       "      <th>6</th>\n",
       "      <td>7</td>\n",
       "      <td>A vixen is a _______ fox.</td>\n",
       "    </tr>\n",
       "    <tr>\n",
       "      <th>7</th>\n",
       "      <td>8</td>\n",
       "      <td>Which word is used for a male elephant and a m...</td>\n",
       "    </tr>\n",
       "    <tr>\n",
       "      <th>8</th>\n",
       "      <td>9</td>\n",
       "      <td>Which word is used for a female dog and a fema...</td>\n",
       "    </tr>\n",
       "    <tr>\n",
       "      <th>9</th>\n",
       "      <td>10</td>\n",
       "      <td>Which word is used for the young of wolves, ti...</td>\n",
       "    </tr>\n",
       "  </tbody>\n",
       "</table>\n",
       "</div>"
      ],
      "text/plain": [
       "   question_no                                           question\n",
       "0            1                           A male chicken is called\n",
       "1            2                           A young sheep is called \n",
       "2            3                            A female pig is called \n",
       "3            4                          A baby kangaroo is called\n",
       "4            5                      A tigress is a _______ tiger.\n",
       "5            6                        A foal is a _______ horse. \n",
       "6            7                          A vixen is a _______ fox.\n",
       "7            8  Which word is used for a male elephant and a m...\n",
       "8            9  Which word is used for a female dog and a fema...\n",
       "9           10  Which word is used for the young of wolves, ti..."
      ]
     },
     "execution_count": 144,
     "metadata": {},
     "output_type": "execute_result"
    }
   ],
   "source": [
    "list_qno = []\n",
    "list_questions = []\n",
    "count_q = 1\n",
    "for q in questions.find_all(\"p\")[:len(list_answers)]:\n",
    "    pattern = r'^\\d+\\.\\s*'\n",
    "    str_wo_num = re.sub(pattern, '', q.text)\n",
    "    list_questions.append(str_wo_num)\n",
    "    list_qno.append(count_q)\n",
    "    count_q = count_q+1\n",
    "    \n",
    "df_questions = pd.DataFrame({'question_no':list_qno, 'question':list_questions})\n",
    "# df_questions"
   ]
  },
  {
   "cell_type": "code",
   "execution_count": 145,
   "id": "1767b329",
   "metadata": {
    "ExecuteTime": {
     "end_time": "2023-11-22T05:45:24.084661Z",
     "start_time": "2023-11-22T05:45:24.071478Z"
    }
   },
   "outputs": [
    {
     "data": {
      "text/html": [
       "<div>\n",
       "<style scoped>\n",
       "    .dataframe tbody tr th:only-of-type {\n",
       "        vertical-align: middle;\n",
       "    }\n",
       "\n",
       "    .dataframe tbody tr th {\n",
       "        vertical-align: top;\n",
       "    }\n",
       "\n",
       "    .dataframe thead th {\n",
       "        text-align: right;\n",
       "    }\n",
       "</style>\n",
       "<table border=\"1\" class=\"dataframe\">\n",
       "  <thead>\n",
       "    <tr style=\"text-align: right;\">\n",
       "      <th></th>\n",
       "      <th>question_no</th>\n",
       "      <th>answer</th>\n",
       "    </tr>\n",
       "  </thead>\n",
       "  <tbody>\n",
       "    <tr>\n",
       "      <th>0</th>\n",
       "      <td>1</td>\n",
       "      <td>a rooster</td>\n",
       "    </tr>\n",
       "    <tr>\n",
       "      <th>1</th>\n",
       "      <td>2</td>\n",
       "      <td>a lamb</td>\n",
       "    </tr>\n",
       "    <tr>\n",
       "      <th>2</th>\n",
       "      <td>3</td>\n",
       "      <td>a sow</td>\n",
       "    </tr>\n",
       "    <tr>\n",
       "      <th>3</th>\n",
       "      <td>4</td>\n",
       "      <td>a joey</td>\n",
       "    </tr>\n",
       "    <tr>\n",
       "      <th>4</th>\n",
       "      <td>5</td>\n",
       "      <td>female</td>\n",
       "    </tr>\n",
       "    <tr>\n",
       "      <th>5</th>\n",
       "      <td>6</td>\n",
       "      <td>young</td>\n",
       "    </tr>\n",
       "    <tr>\n",
       "      <th>6</th>\n",
       "      <td>7</td>\n",
       "      <td>female</td>\n",
       "    </tr>\n",
       "    <tr>\n",
       "      <th>7</th>\n",
       "      <td>8</td>\n",
       "      <td>bull</td>\n",
       "    </tr>\n",
       "    <tr>\n",
       "      <th>8</th>\n",
       "      <td>9</td>\n",
       "      <td>bitch</td>\n",
       "    </tr>\n",
       "    <tr>\n",
       "      <th>9</th>\n",
       "      <td>10</td>\n",
       "      <td>cub</td>\n",
       "    </tr>\n",
       "  </tbody>\n",
       "</table>\n",
       "</div>"
      ],
      "text/plain": [
       "   question_no     answer\n",
       "0            1  a rooster\n",
       "1            2     a lamb\n",
       "2            3      a sow\n",
       "3            4     a joey\n",
       "4            5     female\n",
       "5            6      young\n",
       "6            7     female\n",
       "7            8       bull\n",
       "8            9      bitch\n",
       "9           10        cub"
      ]
     },
     "execution_count": 145,
     "metadata": {},
     "output_type": "execute_result"
    }
   ],
   "source": [
    "# extract answer\n",
    "answer_str = soup.find_all('script', {\"type\": \"text/javascript\", \"language\":\"JavaScript\"})[0].text\n",
    "pattern = r'answers\\[\\d\\]=\"([^\"]+)\"'\n",
    "matches = re.findall(pattern, answer_str)\n",
    "\n",
    "list_qno = []\n",
    "list_answers = []\n",
    "count_q = 1\n",
    "for match in matches:\n",
    "    list_answers.append(match)\n",
    "    list_qno.append(count_q)\n",
    "    count_q = count_q+1\n",
    "df_answers = pd.DataFrame({'question_no':list_qno, 'answer':list_answers})\n",
    "# df_answers"
   ]
  },
  {
   "cell_type": "code",
   "execution_count": 146,
   "id": "21da99cd",
   "metadata": {
    "ExecuteTime": {
     "end_time": "2023-11-22T05:45:24.236068Z",
     "start_time": "2023-11-22T05:45:24.229729Z"
    }
   },
   "outputs": [],
   "source": [
    "list_choices_qno = []\n",
    "list_choices = []\n",
    "list_choices_no = []\n",
    "for i in range(1, len(list_answers)+1):\n",
    "   \n",
    "    count_c = 1\n",
    "    for c in choices[:-3]:\n",
    "#         print(c)\n",
    "        try:\n",
    "            if int(c.get('name')[1:])==i:\n",
    "                list_choices_qno.append(i)\n",
    "                list_choices_no.append(count_c)\n",
    "                list_choices.append(c.get('value'))\n",
    "                count_c = count_c+1\n",
    "        except:\n",
    "            pass\n"
   ]
  },
  {
   "cell_type": "code",
   "execution_count": 147,
   "id": "23c02faa",
   "metadata": {
    "ExecuteTime": {
     "end_time": "2023-11-22T05:45:24.400140Z",
     "start_time": "2023-11-22T05:45:24.395887Z"
    }
   },
   "outputs": [],
   "source": [
    "df_choice = pd.DataFrame({'question_no':list_choices_qno, 'choices_no':list_choices_no, 'choices':list_choices})"
   ]
  },
  {
   "cell_type": "code",
   "execution_count": 148,
   "id": "57c04ada",
   "metadata": {
    "ExecuteTime": {
     "end_time": "2023-11-22T05:45:25.009320Z",
     "start_time": "2023-11-22T05:45:25.000955Z"
    }
   },
   "outputs": [
    {
     "data": {
      "text/html": [
       "<div>\n",
       "<style scoped>\n",
       "    .dataframe tbody tr th:only-of-type {\n",
       "        vertical-align: middle;\n",
       "    }\n",
       "\n",
       "    .dataframe tbody tr th {\n",
       "        vertical-align: top;\n",
       "    }\n",
       "\n",
       "    .dataframe thead th {\n",
       "        text-align: right;\n",
       "    }\n",
       "</style>\n",
       "<table border=\"1\" class=\"dataframe\">\n",
       "  <thead>\n",
       "    <tr style=\"text-align: right;\">\n",
       "      <th></th>\n",
       "      <th>question_no</th>\n",
       "      <th>choices_no</th>\n",
       "      <th>choices</th>\n",
       "    </tr>\n",
       "  </thead>\n",
       "  <tbody>\n",
       "    <tr>\n",
       "      <th>0</th>\n",
       "      <td>1</td>\n",
       "      <td>1</td>\n",
       "      <td>a hen</td>\n",
       "    </tr>\n",
       "    <tr>\n",
       "      <th>1</th>\n",
       "      <td>1</td>\n",
       "      <td>2</td>\n",
       "      <td>a chick</td>\n",
       "    </tr>\n",
       "    <tr>\n",
       "      <th>2</th>\n",
       "      <td>1</td>\n",
       "      <td>3</td>\n",
       "      <td>a rooster</td>\n",
       "    </tr>\n",
       "    <tr>\n",
       "      <th>3</th>\n",
       "      <td>2</td>\n",
       "      <td>1</td>\n",
       "      <td>a ram</td>\n",
       "    </tr>\n",
       "    <tr>\n",
       "      <th>4</th>\n",
       "      <td>2</td>\n",
       "      <td>2</td>\n",
       "      <td>a lamb</td>\n",
       "    </tr>\n",
       "  </tbody>\n",
       "</table>\n",
       "</div>"
      ],
      "text/plain": [
       "   question_no  choices_no    choices\n",
       "0            1           1      a hen\n",
       "1            1           2    a chick\n",
       "2            1           3  a rooster\n",
       "3            2           1      a ram\n",
       "4            2           2     a lamb"
      ]
     },
     "execution_count": 148,
     "metadata": {},
     "output_type": "execute_result"
    }
   ],
   "source": [
    "# df_choice.head()"
   ]
  },
  {
   "cell_type": "code",
   "execution_count": 149,
   "id": "57158fbe",
   "metadata": {
    "ExecuteTime": {
     "end_time": "2023-11-22T05:46:22.226863Z",
     "start_time": "2023-11-22T05:46:22.210257Z"
    }
   },
   "outputs": [
    {
     "data": {
      "text/plain": [
       "(30, 5)"
      ]
     },
     "execution_count": 149,
     "metadata": {},
     "output_type": "execute_result"
    }
   ],
   "source": [
    "df_quiz = pd.merge(df_questions, df_answers, on='question_no')\n",
    "df_quiz = df_quiz.merge(df_choice, on='question_no')\n",
    "# df_quiz.shape"
   ]
  },
  {
   "cell_type": "code",
   "execution_count": 151,
   "id": "3fbc4126",
   "metadata": {
    "ExecuteTime": {
     "end_time": "2023-11-22T05:46:58.118578Z",
     "start_time": "2023-11-22T05:46:58.108474Z"
    }
   },
   "outputs": [
    {
     "data": {
      "text/html": [
       "<div>\n",
       "<style scoped>\n",
       "    .dataframe tbody tr th:only-of-type {\n",
       "        vertical-align: middle;\n",
       "    }\n",
       "\n",
       "    .dataframe tbody tr th {\n",
       "        vertical-align: top;\n",
       "    }\n",
       "\n",
       "    .dataframe thead th {\n",
       "        text-align: right;\n",
       "    }\n",
       "</style>\n",
       "<table border=\"1\" class=\"dataframe\">\n",
       "  <thead>\n",
       "    <tr style=\"text-align: right;\">\n",
       "      <th></th>\n",
       "      <th>question_no</th>\n",
       "      <th>question</th>\n",
       "      <th>answer</th>\n",
       "      <th>choices_no</th>\n",
       "      <th>choices</th>\n",
       "    </tr>\n",
       "  </thead>\n",
       "  <tbody>\n",
       "    <tr>\n",
       "      <th>0</th>\n",
       "      <td>1</td>\n",
       "      <td>A male chicken is called</td>\n",
       "      <td>a rooster</td>\n",
       "      <td>1</td>\n",
       "      <td>a hen</td>\n",
       "    </tr>\n",
       "    <tr>\n",
       "      <th>1</th>\n",
       "      <td>1</td>\n",
       "      <td>A male chicken is called</td>\n",
       "      <td>a rooster</td>\n",
       "      <td>2</td>\n",
       "      <td>a chick</td>\n",
       "    </tr>\n",
       "    <tr>\n",
       "      <th>2</th>\n",
       "      <td>1</td>\n",
       "      <td>A male chicken is called</td>\n",
       "      <td>a rooster</td>\n",
       "      <td>3</td>\n",
       "      <td>a rooster</td>\n",
       "    </tr>\n",
       "    <tr>\n",
       "      <th>3</th>\n",
       "      <td>2</td>\n",
       "      <td>A young sheep is called</td>\n",
       "      <td>a lamb</td>\n",
       "      <td>1</td>\n",
       "      <td>a ram</td>\n",
       "    </tr>\n",
       "    <tr>\n",
       "      <th>4</th>\n",
       "      <td>2</td>\n",
       "      <td>A young sheep is called</td>\n",
       "      <td>a lamb</td>\n",
       "      <td>2</td>\n",
       "      <td>a lamb</td>\n",
       "    </tr>\n",
       "  </tbody>\n",
       "</table>\n",
       "</div>"
      ],
      "text/plain": [
       "   question_no                  question     answer  choices_no    choices\n",
       "0            1  A male chicken is called  a rooster           1      a hen\n",
       "1            1  A male chicken is called  a rooster           2    a chick\n",
       "2            1  A male chicken is called  a rooster           3  a rooster\n",
       "3            2  A young sheep is called      a lamb           1      a ram\n",
       "4            2  A young sheep is called      a lamb           2     a lamb"
      ]
     },
     "execution_count": 151,
     "metadata": {},
     "output_type": "execute_result"
    }
   ],
   "source": [
    "# df_quiz.head()"
   ]
  },
  {
   "cell_type": "code",
   "execution_count": 162,
   "id": "8276c689",
   "metadata": {
    "ExecuteTime": {
     "end_time": "2023-11-22T05:51:38.003615Z",
     "start_time": "2023-11-22T05:51:37.987026Z"
    }
   },
   "outputs": [
    {
     "name": "stdout",
     "output_type": "stream",
     "text": [
      "{1: [{'question': 'A male chicken is called', 'answer': 'a rooster', 'choices_no': 1, 'choices': 'a hen'}, {'question': 'A male chicken is called', 'answer': 'a rooster', 'choices_no': 2, 'choices': 'a chick'}, {'question': 'A male chicken is called', 'answer': 'a rooster', 'choices_no': 3, 'choices': 'a rooster'}], 2: [{'question': 'A young sheep is called ', 'answer': 'a lamb', 'choices_no': 1, 'choices': 'a ram'}, {'question': 'A young sheep is called ', 'answer': 'a lamb', 'choices_no': 2, 'choices': 'a lamb'}, {'question': 'A young sheep is called ', 'answer': 'a lamb', 'choices_no': 3, 'choices': 'a ewe'}], 3: [{'question': 'A female pig is called ', 'answer': 'a sow', 'choices_no': 1, 'choices': 'a sow'}, {'question': 'A female pig is called ', 'answer': 'a sow', 'choices_no': 2, 'choices': 'a suckling'}, {'question': 'A female pig is called ', 'answer': 'a sow', 'choices_no': 3, 'choices': 'a boar'}], 4: [{'question': 'A baby kangaroo is called', 'answer': 'a joey', 'choices_no': 1, 'choices': 'a cub'}, {'question': 'A baby kangaroo is called', 'answer': 'a joey', 'choices_no': 2, 'choices': 'a pup'}, {'question': 'A baby kangaroo is called', 'answer': 'a joey', 'choices_no': 3, 'choices': 'a joey'}], 5: [{'question': 'A tigress is a _______ tiger.', 'answer': 'female', 'choices_no': 1, 'choices': 'male'}, {'question': 'A tigress is a _______ tiger.', 'answer': 'female', 'choices_no': 2, 'choices': 'female'}, {'question': 'A tigress is a _______ tiger.', 'answer': 'female', 'choices_no': 3, 'choices': 'young'}], 6: [{'question': 'A foal is a _______ horse. ', 'answer': 'young', 'choices_no': 1, 'choices': 'male'}, {'question': 'A foal is a _______ horse. ', 'answer': 'young', 'choices_no': 2, 'choices': 'female'}, {'question': 'A foal is a _______ horse. ', 'answer': 'young', 'choices_no': 3, 'choices': 'young'}], 7: [{'question': 'A vixen is a _______ fox.', 'answer': 'female', 'choices_no': 1, 'choices': 'male'}, {'question': 'A vixen is a _______ fox.', 'answer': 'female', 'choices_no': 2, 'choices': 'female'}, {'question': 'A vixen is a _______ fox.', 'answer': 'female', 'choices_no': 3, 'choices': 'young'}], 8: [{'question': 'Which word is used for a male elephant and a male whale? ', 'answer': 'bull', 'choices_no': 1, 'choices': 'bull'}, {'question': 'Which word is used for a male elephant and a male whale? ', 'answer': 'bull', 'choices_no': 2, 'choices': 'boar'}, {'question': 'Which word is used for a male elephant and a male whale? ', 'answer': 'bull', 'choices_no': 3, 'choices': 'buck'}], 9: [{'question': 'Which word is used for a female dog and a female wolf?', 'answer': 'bitch', 'choices_no': 1, 'choices': 'queen'}, {'question': 'Which word is used for a female dog and a female wolf?', 'answer': 'bitch', 'choices_no': 2, 'choices': 'bitch'}, {'question': 'Which word is used for a female dog and a female wolf?', 'answer': 'bitch', 'choices_no': 3, 'choices': 'puppy'}], 10: [{'question': 'Which word is used for the young of wolves, tigers, lions and foxes?', 'answer': 'cub', 'choices_no': 1, 'choices': 'cub'}, {'question': 'Which word is used for the young of wolves, tigers, lions and foxes?', 'answer': 'cub', 'choices_no': 2, 'choices': 'pup'}, {'question': 'Which word is used for the young of wolves, tigers, lions and foxes?', 'answer': 'cub', 'choices_no': 3, 'choices': 'calf'}]}\n"
     ]
    }
   ],
   "source": [
    "q_grouped_dict = {group: group_df.drop('question_no', axis=1).to_dict(orient='records') \n",
    "                for group, group_df in df_quiz.groupby('question_no')}\n",
    "\n",
    "print(q_grouped_dict)"
   ]
  },
  {
   "cell_type": "code",
   "execution_count": 163,
   "id": "81fa8f6f",
   "metadata": {
    "ExecuteTime": {
     "end_time": "2023-11-22T05:51:40.692508Z",
     "start_time": "2023-11-22T05:51:40.688551Z"
    }
   },
   "outputs": [
    {
     "name": "stdout",
     "output_type": "stream",
     "text": [
      "{\"1\": [{\"question\": \"A male chicken is called\", \"answer\": \"a rooster\", \"choices_no\": 1, \"choices\": \"a hen\"}, {\"question\": \"A male chicken is called\", \"answer\": \"a rooster\", \"choices_no\": 2, \"choices\": \"a chick\"}, {\"question\": \"A male chicken is called\", \"answer\": \"a rooster\", \"choices_no\": 3, \"choices\": \"a rooster\"}], \"2\": [{\"question\": \"A young sheep is called \", \"answer\": \"a lamb\", \"choices_no\": 1, \"choices\": \"a ram\"}, {\"question\": \"A young sheep is called \", \"answer\": \"a lamb\", \"choices_no\": 2, \"choices\": \"a lamb\"}, {\"question\": \"A young sheep is called \", \"answer\": \"a lamb\", \"choices_no\": 3, \"choices\": \"a ewe\"}], \"3\": [{\"question\": \"A female pig is called \", \"answer\": \"a sow\", \"choices_no\": 1, \"choices\": \"a sow\"}, {\"question\": \"A female pig is called \", \"answer\": \"a sow\", \"choices_no\": 2, \"choices\": \"a suckling\"}, {\"question\": \"A female pig is called \", \"answer\": \"a sow\", \"choices_no\": 3, \"choices\": \"a boar\"}], \"4\": [{\"question\": \"A baby kangaroo is called\", \"answer\": \"a joey\", \"choices_no\": 1, \"choices\": \"a cub\"}, {\"question\": \"A baby kangaroo is called\", \"answer\": \"a joey\", \"choices_no\": 2, \"choices\": \"a pup\"}, {\"question\": \"A baby kangaroo is called\", \"answer\": \"a joey\", \"choices_no\": 3, \"choices\": \"a joey\"}], \"5\": [{\"question\": \"A tigress is a _______ tiger.\", \"answer\": \"female\", \"choices_no\": 1, \"choices\": \"male\"}, {\"question\": \"A tigress is a _______ tiger.\", \"answer\": \"female\", \"choices_no\": 2, \"choices\": \"female\"}, {\"question\": \"A tigress is a _______ tiger.\", \"answer\": \"female\", \"choices_no\": 3, \"choices\": \"young\"}], \"6\": [{\"question\": \"A foal is a _______ horse. \", \"answer\": \"young\", \"choices_no\": 1, \"choices\": \"male\"}, {\"question\": \"A foal is a _______ horse. \", \"answer\": \"young\", \"choices_no\": 2, \"choices\": \"female\"}, {\"question\": \"A foal is a _______ horse. \", \"answer\": \"young\", \"choices_no\": 3, \"choices\": \"young\"}], \"7\": [{\"question\": \"A vixen is a _______ fox.\", \"answer\": \"female\", \"choices_no\": 1, \"choices\": \"male\"}, {\"question\": \"A vixen is a _______ fox.\", \"answer\": \"female\", \"choices_no\": 2, \"choices\": \"female\"}, {\"question\": \"A vixen is a _______ fox.\", \"answer\": \"female\", \"choices_no\": 3, \"choices\": \"young\"}], \"8\": [{\"question\": \"Which word is used for a male elephant and a male whale? \", \"answer\": \"bull\", \"choices_no\": 1, \"choices\": \"bull\"}, {\"question\": \"Which word is used for a male elephant and a male whale? \", \"answer\": \"bull\", \"choices_no\": 2, \"choices\": \"boar\"}, {\"question\": \"Which word is used for a male elephant and a male whale? \", \"answer\": \"bull\", \"choices_no\": 3, \"choices\": \"buck\"}], \"9\": [{\"question\": \"Which word is used for a female dog and a female wolf?\", \"answer\": \"bitch\", \"choices_no\": 1, \"choices\": \"queen\"}, {\"question\": \"Which word is used for a female dog and a female wolf?\", \"answer\": \"bitch\", \"choices_no\": 2, \"choices\": \"bitch\"}, {\"question\": \"Which word is used for a female dog and a female wolf?\", \"answer\": \"bitch\", \"choices_no\": 3, \"choices\": \"puppy\"}], \"10\": [{\"question\": \"Which word is used for the young of wolves, tigers, lions and foxes?\", \"answer\": \"cub\", \"choices_no\": 1, \"choices\": \"cub\"}, {\"question\": \"Which word is used for the young of wolves, tigers, lions and foxes?\", \"answer\": \"cub\", \"choices_no\": 2, \"choices\": \"pup\"}, {\"question\": \"Which word is used for the young of wolves, tigers, lions and foxes?\", \"answer\": \"cub\", \"choices_no\": 3, \"choices\": \"calf\"}]}\n"
     ]
    }
   ],
   "source": [
    "json_string = json.dumps(q_grouped_dict)\n",
    "\n",
    "print(json_string)"
   ]
  },
  {
   "cell_type": "code",
   "execution_count": null,
   "id": "806882b1",
   "metadata": {},
   "outputs": [],
   "source": []
  },
  {
   "cell_type": "code",
   "execution_count": null,
   "id": "5b91ae82",
   "metadata": {},
   "outputs": [],
   "source": []
  }
 ],
 "metadata": {
  "kernelspec": {
   "display_name": "Python 3 (ipykernel)",
   "language": "python",
   "name": "python3"
  },
  "language_info": {
   "codemirror_mode": {
    "name": "ipython",
    "version": 3
   },
   "file_extension": ".py",
   "mimetype": "text/x-python",
   "name": "python",
   "nbconvert_exporter": "python",
   "pygments_lexer": "ipython3",
   "version": "3.9.6"
  },
  "toc": {
   "base_numbering": 1,
   "nav_menu": {},
   "number_sections": true,
   "sideBar": true,
   "skip_h1_title": false,
   "title_cell": "Table of Contents",
   "title_sidebar": "Contents",
   "toc_cell": false,
   "toc_position": {},
   "toc_section_display": true,
   "toc_window_display": false
  }
 },
 "nbformat": 4,
 "nbformat_minor": 5
}
