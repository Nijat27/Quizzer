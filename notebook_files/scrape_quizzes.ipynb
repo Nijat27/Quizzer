{
 "cells": [
  {
   "cell_type": "code",
   "execution_count": 109,
   "id": "aea3e6fa",
   "metadata": {
    "ExecuteTime": {
     "end_time": "2023-11-23T04:25:02.128289Z",
     "start_time": "2023-11-23T04:25:02.124553Z"
    }
   },
   "outputs": [],
   "source": [
    "import os\n",
    "import requests\n",
    "from bs4 import BeautifulSoup\n",
    "\n",
    "import pandas as pd\n",
    "import re\n",
    "from lxml import etree \n",
    "import json"
   ]
  },
  {
   "cell_type": "markdown",
   "id": "9589d5a6",
   "metadata": {},
   "source": [
    "# Test"
   ]
  },
  {
   "cell_type": "code",
   "execution_count": 61,
   "id": "57e43f31",
   "metadata": {
    "ExecuteTime": {
     "end_time": "2023-11-23T04:08:01.229532Z",
     "start_time": "2023-11-23T04:08:00.825517Z"
    }
   },
   "outputs": [],
   "source": [
    "URL = 'https://www.englishclub.com/vocabulary/animal-terms-easy-quiz.php'\n",
    "page = requests.get(URL)\n",
    "soup = BeautifulSoup(page.content, \"html.parser\")"
   ]
  },
  {
   "cell_type": "code",
   "execution_count": 62,
   "id": "788ee339",
   "metadata": {
    "ExecuteTime": {
     "end_time": "2023-11-23T04:08:01.238516Z",
     "start_time": "2023-11-23T04:08:01.233166Z"
    }
   },
   "outputs": [],
   "source": [
    "quiz_name = soup.find(\"h1\").text\n",
    "questions = soup.find_all(\"form\", class_=\"mcquiz\")[0]\n",
    "choices = questions.find_all(\"input\")"
   ]
  },
  {
   "cell_type": "code",
   "execution_count": 63,
   "id": "c9f70cef",
   "metadata": {
    "ExecuteTime": {
     "end_time": "2023-11-23T04:08:01.247648Z",
     "start_time": "2023-11-23T04:08:01.240705Z"
    }
   },
   "outputs": [],
   "source": [
    "# extract answer\n",
    "answer_str = soup.find_all('script', {\"type\": \"text/javascript\", \"language\":\"JavaScript\"})[0].text\n",
    "pattern = r'answers\\[\\d\\]=\"([^\"]+)\"'\n",
    "matches = re.findall(pattern, answer_str)\n",
    "\n",
    "list_qno = []\n",
    "list_answers = []\n",
    "count_q = 1\n",
    "for match in matches:\n",
    "    list_answers.append(match)\n",
    "    list_qno.append(count_q)\n",
    "    count_q = count_q+1\n",
    "df_answers = pd.DataFrame({'question_no':list_qno, 'answer':list_answers})\n",
    "# df_answers"
   ]
  },
  {
   "cell_type": "code",
   "execution_count": 64,
   "id": "609f68cb",
   "metadata": {
    "ExecuteTime": {
     "end_time": "2023-11-23T04:08:01.507146Z",
     "start_time": "2023-11-23T04:08:01.500015Z"
    }
   },
   "outputs": [],
   "source": [
    "list_qno = []\n",
    "list_questions = []\n",
    "count_q = 1\n",
    "for q in questions.find_all(\"p\")[:len(list_answers)]:\n",
    "    pattern = r'^\\d+\\.\\s*'\n",
    "    str_wo_num = re.sub(pattern, '', q.text)\n",
    "    list_questions.append(str_wo_num)\n",
    "    list_qno.append(count_q)\n",
    "    count_q = count_q+1\n",
    "    \n",
    "df_questions = pd.DataFrame({'question_no':list_qno, 'question':list_questions})\n",
    "# df_questions"
   ]
  },
  {
   "cell_type": "code",
   "execution_count": 65,
   "id": "21da99cd",
   "metadata": {
    "ExecuteTime": {
     "end_time": "2023-11-23T04:08:01.858799Z",
     "start_time": "2023-11-23T04:08:01.852433Z"
    }
   },
   "outputs": [],
   "source": [
    "list_choices_qno = []\n",
    "list_choices = []\n",
    "list_choices_no = []\n",
    "for i in range(1, len(list_answers)+1):\n",
    "   \n",
    "    count_c = 1\n",
    "    for c in choices[:-3]:\n",
    "#         print(c)\n",
    "        try:\n",
    "            if int(c.get('name')[1:])==i:\n",
    "                list_choices_qno.append(i)\n",
    "                list_choices_no.append(count_c)\n",
    "                list_choices.append(c.get('value'))\n",
    "                count_c = count_c+1\n",
    "        except:\n",
    "            pass\n"
   ]
  },
  {
   "cell_type": "code",
   "execution_count": 66,
   "id": "23c02faa",
   "metadata": {
    "ExecuteTime": {
     "end_time": "2023-11-23T04:08:02.363713Z",
     "start_time": "2023-11-23T04:08:02.359400Z"
    }
   },
   "outputs": [],
   "source": [
    "df_choice = pd.DataFrame({'question_no':list_choices_qno, 'choices_no':list_choices_no, 'choices':list_choices})"
   ]
  },
  {
   "cell_type": "code",
   "execution_count": 67,
   "id": "57c04ada",
   "metadata": {
    "ExecuteTime": {
     "end_time": "2023-11-23T04:08:02.781345Z",
     "start_time": "2023-11-23T04:08:02.777503Z"
    }
   },
   "outputs": [],
   "source": [
    "# df_choice.head()"
   ]
  },
  {
   "cell_type": "code",
   "execution_count": 68,
   "id": "57158fbe",
   "metadata": {
    "ExecuteTime": {
     "end_time": "2023-11-23T04:08:03.118887Z",
     "start_time": "2023-11-23T04:08:03.103571Z"
    }
   },
   "outputs": [
    {
     "data": {
      "text/html": [
       "<div>\n",
       "<style scoped>\n",
       "    .dataframe tbody tr th:only-of-type {\n",
       "        vertical-align: middle;\n",
       "    }\n",
       "\n",
       "    .dataframe tbody tr th {\n",
       "        vertical-align: top;\n",
       "    }\n",
       "\n",
       "    .dataframe thead th {\n",
       "        text-align: right;\n",
       "    }\n",
       "</style>\n",
       "<table border=\"1\" class=\"dataframe\">\n",
       "  <thead>\n",
       "    <tr style=\"text-align: right;\">\n",
       "      <th></th>\n",
       "      <th>question_no</th>\n",
       "      <th>question</th>\n",
       "      <th>answer</th>\n",
       "      <th>choices_no</th>\n",
       "      <th>choices</th>\n",
       "    </tr>\n",
       "  </thead>\n",
       "  <tbody>\n",
       "    <tr>\n",
       "      <th>0</th>\n",
       "      <td>1</td>\n",
       "      <td>A male chicken is called</td>\n",
       "      <td>a rooster</td>\n",
       "      <td>1</td>\n",
       "      <td>a hen</td>\n",
       "    </tr>\n",
       "    <tr>\n",
       "      <th>1</th>\n",
       "      <td>1</td>\n",
       "      <td>A male chicken is called</td>\n",
       "      <td>a rooster</td>\n",
       "      <td>2</td>\n",
       "      <td>a chick</td>\n",
       "    </tr>\n",
       "    <tr>\n",
       "      <th>2</th>\n",
       "      <td>1</td>\n",
       "      <td>A male chicken is called</td>\n",
       "      <td>a rooster</td>\n",
       "      <td>3</td>\n",
       "      <td>a rooster</td>\n",
       "    </tr>\n",
       "    <tr>\n",
       "      <th>3</th>\n",
       "      <td>2</td>\n",
       "      <td>A young sheep is called</td>\n",
       "      <td>a lamb</td>\n",
       "      <td>1</td>\n",
       "      <td>a ram</td>\n",
       "    </tr>\n",
       "    <tr>\n",
       "      <th>4</th>\n",
       "      <td>2</td>\n",
       "      <td>A young sheep is called</td>\n",
       "      <td>a lamb</td>\n",
       "      <td>2</td>\n",
       "      <td>a lamb</td>\n",
       "    </tr>\n",
       "  </tbody>\n",
       "</table>\n",
       "</div>"
      ],
      "text/plain": [
       "   question_no                  question     answer  choices_no    choices\n",
       "0            1  A male chicken is called  a rooster           1      a hen\n",
       "1            1  A male chicken is called  a rooster           2    a chick\n",
       "2            1  A male chicken is called  a rooster           3  a rooster\n",
       "3            2  A young sheep is called      a lamb           1      a ram\n",
       "4            2  A young sheep is called      a lamb           2     a lamb"
      ]
     },
     "execution_count": 68,
     "metadata": {},
     "output_type": "execute_result"
    }
   ],
   "source": [
    "df_quiz = pd.merge(df_questions, df_answers, on='question_no')\n",
    "df_quiz = df_quiz.merge(df_choice, on='question_no')\n",
    "# df_quiz.shape\n",
    "df_quiz.head()"
   ]
  },
  {
   "cell_type": "code",
   "execution_count": 137,
   "id": "b9e1ec68",
   "metadata": {
    "ExecuteTime": {
     "end_time": "2023-11-23T04:29:30.876926Z",
     "start_time": "2023-11-23T04:29:30.842022Z"
    }
   },
   "outputs": [
    {
     "data": {
      "text/plain": [
       "{'qname': 'Animal Terms (short list) Quiz',\n",
       " 'qtype': 'multiple_choice',\n",
       " 'questions': {'1': {'question': 'A male chicken is called',\n",
       "   'answer': 'a rooster',\n",
       "   'choices': {'1': 'a hen', '2': 'a chick', '3': 'a rooster'}},\n",
       "  '2': {'question': 'A young sheep is called ',\n",
       "   'answer': 'a lamb',\n",
       "   'choices': {'1': 'a ram', '2': 'a lamb', '3': 'a ewe'}},\n",
       "  '3': {'question': 'A female pig is called ',\n",
       "   'answer': 'a sow',\n",
       "   'choices': {'1': 'a sow', '2': 'a suckling', '3': 'a boar'}},\n",
       "  '4': {'question': 'A baby kangaroo is called',\n",
       "   'answer': 'a joey',\n",
       "   'choices': {'1': 'a cub', '2': 'a pup', '3': 'a joey'}},\n",
       "  '5': {'question': 'A tigress is a _______ tiger.',\n",
       "   'answer': 'female',\n",
       "   'choices': {'1': 'male', '2': 'female', '3': 'young'}},\n",
       "  '6': {'question': 'A foal is a _______ horse. ',\n",
       "   'answer': 'young',\n",
       "   'choices': {'1': 'male', '2': 'female', '3': 'young'}},\n",
       "  '7': {'question': 'A vixen is a _______ fox.',\n",
       "   'answer': 'female',\n",
       "   'choices': {'1': 'male', '2': 'female', '3': 'young'}},\n",
       "  '8': {'question': 'Which word is used for a male elephant and a male whale? ',\n",
       "   'answer': 'bull',\n",
       "   'choices': {'1': 'bull', '2': 'boar', '3': 'buck'}},\n",
       "  '9': {'question': 'Which word is used for a female dog and a female wolf?',\n",
       "   'answer': 'bitch',\n",
       "   'choices': {'1': 'queen', '2': 'bitch', '3': 'puppy'}},\n",
       "  '10': {'question': 'Which word is used for the young of wolves, tigers, lions and foxes?',\n",
       "   'answer': 'cub',\n",
       "   'choices': {'1': 'cub', '2': 'pup', '3': 'calf'}}}}"
      ]
     },
     "execution_count": 137,
     "metadata": {},
     "output_type": "execute_result"
    }
   ],
   "source": [
    "dict_q = {'qname': quiz_name}\n",
    "if max(df_quiz.choices_no)>2:\n",
    "    dict_q['qtype'] = 'multiple_choice'\n",
    "\n",
    "dict_q['questions'] = {}\n",
    "for i in df_quiz['question_no'].unique():\n",
    "    dict_qa = {}\n",
    "    question_info = df_quiz[df_quiz['question_no']==i]\n",
    "    question = question_info['question'].unique()[0]\n",
    "    answer = question_info['answer'].unique()[0]\n",
    "    choices = {}\n",
    "    for c in question_info['choices_no'].unique():\n",
    "        choices[str(c)] = df_quiz[(df_quiz['question_no']==i)&(df_quiz['choices_no']==c)]['choices'].values[0]\n",
    "        \n",
    "    dict_qa = {'question': question, \n",
    "               'answer': answer,\n",
    "               'choices': choices}\n",
    "    \n",
    "    dict_q['questions'][str(i)] = dict_qa\n",
    "\n",
    "# dict_q"
   ]
  },
  {
   "cell_type": "code",
   "execution_count": 138,
   "id": "c23e513a",
   "metadata": {
    "ExecuteTime": {
     "end_time": "2023-11-23T04:29:31.167441Z",
     "start_time": "2023-11-23T04:29:31.162649Z"
    }
   },
   "outputs": [],
   "source": [
    "path_cur = os.getcwd()\n",
    "path_mainp = \"/\".join(path_cur.split('/')[:-1])\n",
    "path_dbquizzes = os.path.join(path_mainp, 'db_quizzes')\n",
    "\n",
    "path_qname = URL.split('/')[-1][:-4]\n",
    "path_dbquizzes_filename = os.path.join(path_dbquizzes, path_qname)+'.json'\n",
    "# path_dbquizzes_filename"
   ]
  },
  {
   "cell_type": "code",
   "execution_count": 139,
   "id": "806882b1",
   "metadata": {
    "ExecuteTime": {
     "end_time": "2023-11-23T04:29:31.709612Z",
     "start_time": "2023-11-23T04:29:31.705400Z"
    }
   },
   "outputs": [],
   "source": [
    "# Convert and write JSON object to file\n",
    "with open(path_dbquizzes_filename, \"w\") as outfile: \n",
    "    json.dump(dict_q, outfile)"
   ]
  },
  {
   "cell_type": "markdown",
   "id": "28876c8f",
   "metadata": {},
   "source": [
    "## TF quiz"
   ]
  },
  {
   "cell_type": "code",
   "execution_count": null,
   "id": "260ace92",
   "metadata": {},
   "outputs": [],
   "source": [
    "'https://www.englishclub.com/speaking/small-talk_quiz.php'"
   ]
  },
  {
   "cell_type": "code",
   "execution_count": 61,
   "id": "804f0dfe",
   "metadata": {
    "ExecuteTime": {
     "end_time": "2023-11-23T04:08:01.229532Z",
     "start_time": "2023-11-23T04:08:00.825517Z"
    }
   },
   "outputs": [],
   "source": [
    "URL = 'https://www.englishclub.com/vocabulary/animal-terms-easy-quiz.php'\n",
    "page = requests.get(URL)\n",
    "soup = BeautifulSoup(page.content, \"html.parser\")"
   ]
  },
  {
   "cell_type": "code",
   "execution_count": 62,
   "id": "b5f3e71d",
   "metadata": {
    "ExecuteTime": {
     "end_time": "2023-11-23T04:08:01.238516Z",
     "start_time": "2023-11-23T04:08:01.233166Z"
    }
   },
   "outputs": [],
   "source": [
    "quiz_name = soup.find(\"h1\").text\n",
    "questions = soup.find_all(\"form\", class_=\"mcquiz\")[0]\n",
    "choices = questions.find_all(\"input\")"
   ]
  },
  {
   "cell_type": "code",
   "execution_count": 63,
   "id": "d7ea4e2b",
   "metadata": {
    "ExecuteTime": {
     "end_time": "2023-11-23T04:08:01.247648Z",
     "start_time": "2023-11-23T04:08:01.240705Z"
    }
   },
   "outputs": [],
   "source": [
    "# extract answer\n",
    "answer_str = soup.find_all('script', {\"type\": \"text/javascript\", \"language\":\"JavaScript\"})[0].text\n",
    "pattern = r'answers\\[\\d\\]=\"([^\"]+)\"'\n",
    "matches = re.findall(pattern, answer_str)\n",
    "\n",
    "list_qno = []\n",
    "list_answers = []\n",
    "count_q = 1\n",
    "for match in matches:\n",
    "    list_answers.append(match)\n",
    "    list_qno.append(count_q)\n",
    "    count_q = count_q+1\n",
    "df_answers = pd.DataFrame({'question_no':list_qno, 'answer':list_answers})\n",
    "# df_answers"
   ]
  },
  {
   "cell_type": "code",
   "execution_count": 64,
   "id": "718e0afe",
   "metadata": {
    "ExecuteTime": {
     "end_time": "2023-11-23T04:08:01.507146Z",
     "start_time": "2023-11-23T04:08:01.500015Z"
    }
   },
   "outputs": [],
   "source": [
    "list_qno = []\n",
    "list_questions = []\n",
    "count_q = 1\n",
    "for q in questions.find_all(\"p\")[:len(list_answers)]:\n",
    "    pattern = r'^\\d+\\.\\s*'\n",
    "    str_wo_num = re.sub(pattern, '', q.text)\n",
    "    list_questions.append(str_wo_num)\n",
    "    list_qno.append(count_q)\n",
    "    count_q = count_q+1\n",
    "    \n",
    "df_questions = pd.DataFrame({'question_no':list_qno, 'question':list_questions})\n",
    "# df_questions"
   ]
  },
  {
   "cell_type": "code",
   "execution_count": 65,
   "id": "3443049c",
   "metadata": {
    "ExecuteTime": {
     "end_time": "2023-11-23T04:08:01.858799Z",
     "start_time": "2023-11-23T04:08:01.852433Z"
    }
   },
   "outputs": [],
   "source": [
    "list_choices_qno = []\n",
    "list_choices = []\n",
    "list_choices_no = []\n",
    "for i in range(1, len(list_answers)+1):\n",
    "   \n",
    "    count_c = 1\n",
    "    for c in choices[:-3]:\n",
    "#         print(c)\n",
    "        try:\n",
    "            if int(c.get('name')[1:])==i:\n",
    "                list_choices_qno.append(i)\n",
    "                list_choices_no.append(count_c)\n",
    "                list_choices.append(c.get('value'))\n",
    "                count_c = count_c+1\n",
    "        except:\n",
    "            pass\n"
   ]
  },
  {
   "cell_type": "code",
   "execution_count": 66,
   "id": "ede59825",
   "metadata": {
    "ExecuteTime": {
     "end_time": "2023-11-23T04:08:02.363713Z",
     "start_time": "2023-11-23T04:08:02.359400Z"
    }
   },
   "outputs": [],
   "source": [
    "df_choice = pd.DataFrame({'question_no':list_choices_qno, 'choices_no':list_choices_no, 'choices':list_choices})"
   ]
  },
  {
   "cell_type": "code",
   "execution_count": 67,
   "id": "1d8cf09b",
   "metadata": {
    "ExecuteTime": {
     "end_time": "2023-11-23T04:08:02.781345Z",
     "start_time": "2023-11-23T04:08:02.777503Z"
    }
   },
   "outputs": [],
   "source": [
    "# df_choice.head()"
   ]
  },
  {
   "cell_type": "code",
   "execution_count": 68,
   "id": "693290ec",
   "metadata": {
    "ExecuteTime": {
     "end_time": "2023-11-23T04:08:03.118887Z",
     "start_time": "2023-11-23T04:08:03.103571Z"
    }
   },
   "outputs": [
    {
     "data": {
      "text/html": [
       "<div>\n",
       "<style scoped>\n",
       "    .dataframe tbody tr th:only-of-type {\n",
       "        vertical-align: middle;\n",
       "    }\n",
       "\n",
       "    .dataframe tbody tr th {\n",
       "        vertical-align: top;\n",
       "    }\n",
       "\n",
       "    .dataframe thead th {\n",
       "        text-align: right;\n",
       "    }\n",
       "</style>\n",
       "<table border=\"1\" class=\"dataframe\">\n",
       "  <thead>\n",
       "    <tr style=\"text-align: right;\">\n",
       "      <th></th>\n",
       "      <th>question_no</th>\n",
       "      <th>question</th>\n",
       "      <th>answer</th>\n",
       "      <th>choices_no</th>\n",
       "      <th>choices</th>\n",
       "    </tr>\n",
       "  </thead>\n",
       "  <tbody>\n",
       "    <tr>\n",
       "      <th>0</th>\n",
       "      <td>1</td>\n",
       "      <td>A male chicken is called</td>\n",
       "      <td>a rooster</td>\n",
       "      <td>1</td>\n",
       "      <td>a hen</td>\n",
       "    </tr>\n",
       "    <tr>\n",
       "      <th>1</th>\n",
       "      <td>1</td>\n",
       "      <td>A male chicken is called</td>\n",
       "      <td>a rooster</td>\n",
       "      <td>2</td>\n",
       "      <td>a chick</td>\n",
       "    </tr>\n",
       "    <tr>\n",
       "      <th>2</th>\n",
       "      <td>1</td>\n",
       "      <td>A male chicken is called</td>\n",
       "      <td>a rooster</td>\n",
       "      <td>3</td>\n",
       "      <td>a rooster</td>\n",
       "    </tr>\n",
       "    <tr>\n",
       "      <th>3</th>\n",
       "      <td>2</td>\n",
       "      <td>A young sheep is called</td>\n",
       "      <td>a lamb</td>\n",
       "      <td>1</td>\n",
       "      <td>a ram</td>\n",
       "    </tr>\n",
       "    <tr>\n",
       "      <th>4</th>\n",
       "      <td>2</td>\n",
       "      <td>A young sheep is called</td>\n",
       "      <td>a lamb</td>\n",
       "      <td>2</td>\n",
       "      <td>a lamb</td>\n",
       "    </tr>\n",
       "  </tbody>\n",
       "</table>\n",
       "</div>"
      ],
      "text/plain": [
       "   question_no                  question     answer  choices_no    choices\n",
       "0            1  A male chicken is called  a rooster           1      a hen\n",
       "1            1  A male chicken is called  a rooster           2    a chick\n",
       "2            1  A male chicken is called  a rooster           3  a rooster\n",
       "3            2  A young sheep is called      a lamb           1      a ram\n",
       "4            2  A young sheep is called      a lamb           2     a lamb"
      ]
     },
     "execution_count": 68,
     "metadata": {},
     "output_type": "execute_result"
    }
   ],
   "source": [
    "df_quiz = pd.merge(df_questions, df_answers, on='question_no')\n",
    "df_quiz = df_quiz.merge(df_choice, on='question_no')\n",
    "# df_quiz.shape\n",
    "df_quiz.head()"
   ]
  },
  {
   "cell_type": "code",
   "execution_count": 137,
   "id": "cc74dd43",
   "metadata": {
    "ExecuteTime": {
     "end_time": "2023-11-23T04:29:30.876926Z",
     "start_time": "2023-11-23T04:29:30.842022Z"
    }
   },
   "outputs": [
    {
     "data": {
      "text/plain": [
       "{'qname': 'Animal Terms (short list) Quiz',\n",
       " 'qtype': 'multiple_choice',\n",
       " 'questions': {'1': {'question': 'A male chicken is called',\n",
       "   'answer': 'a rooster',\n",
       "   'choices': {'1': 'a hen', '2': 'a chick', '3': 'a rooster'}},\n",
       "  '2': {'question': 'A young sheep is called ',\n",
       "   'answer': 'a lamb',\n",
       "   'choices': {'1': 'a ram', '2': 'a lamb', '3': 'a ewe'}},\n",
       "  '3': {'question': 'A female pig is called ',\n",
       "   'answer': 'a sow',\n",
       "   'choices': {'1': 'a sow', '2': 'a suckling', '3': 'a boar'}},\n",
       "  '4': {'question': 'A baby kangaroo is called',\n",
       "   'answer': 'a joey',\n",
       "   'choices': {'1': 'a cub', '2': 'a pup', '3': 'a joey'}},\n",
       "  '5': {'question': 'A tigress is a _______ tiger.',\n",
       "   'answer': 'female',\n",
       "   'choices': {'1': 'male', '2': 'female', '3': 'young'}},\n",
       "  '6': {'question': 'A foal is a _______ horse. ',\n",
       "   'answer': 'young',\n",
       "   'choices': {'1': 'male', '2': 'female', '3': 'young'}},\n",
       "  '7': {'question': 'A vixen is a _______ fox.',\n",
       "   'answer': 'female',\n",
       "   'choices': {'1': 'male', '2': 'female', '3': 'young'}},\n",
       "  '8': {'question': 'Which word is used for a male elephant and a male whale? ',\n",
       "   'answer': 'bull',\n",
       "   'choices': {'1': 'bull', '2': 'boar', '3': 'buck'}},\n",
       "  '9': {'question': 'Which word is used for a female dog and a female wolf?',\n",
       "   'answer': 'bitch',\n",
       "   'choices': {'1': 'queen', '2': 'bitch', '3': 'puppy'}},\n",
       "  '10': {'question': 'Which word is used for the young of wolves, tigers, lions and foxes?',\n",
       "   'answer': 'cub',\n",
       "   'choices': {'1': 'cub', '2': 'pup', '3': 'calf'}}}}"
      ]
     },
     "execution_count": 137,
     "metadata": {},
     "output_type": "execute_result"
    }
   ],
   "source": [
    "dict_q = {'qname': quiz_name}\n",
    "if max(df_quiz.choices_no)>2:\n",
    "    dict_q['qtype'] = 'multiple_choice'\n",
    "\n",
    "dict_q['questions'] = {}\n",
    "for i in df_quiz['question_no'].unique():\n",
    "    dict_qa = {}\n",
    "    question_info = df_quiz[df_quiz['question_no']==i]\n",
    "    question = question_info['question'].unique()[0]\n",
    "    answer = question_info['answer'].unique()[0]\n",
    "    choices = {}\n",
    "    for c in question_info['choices_no'].unique():\n",
    "        choices[str(c)] = df_quiz[(df_quiz['question_no']==i)&(df_quiz['choices_no']==c)]['choices'].values[0]\n",
    "        \n",
    "    dict_qa = {'question': question, \n",
    "               'answer': answer,\n",
    "               'choices': choices}\n",
    "    \n",
    "    dict_q['questions'][str(i)] = dict_qa\n",
    "\n",
    "# dict_q"
   ]
  },
  {
   "cell_type": "code",
   "execution_count": null,
   "id": "d218cff3",
   "metadata": {},
   "outputs": [],
   "source": []
  },
  {
   "cell_type": "markdown",
   "id": "1f637022",
   "metadata": {},
   "source": [
    "\n",
    "# Auto scrape"
   ]
  },
  {
   "cell_type": "code",
   "execution_count": 1,
   "id": "6e3d589c",
   "metadata": {
    "ExecuteTime": {
     "end_time": "2023-11-23T04:37:16.993406Z",
     "start_time": "2023-11-23T04:37:16.667058Z"
    }
   },
   "outputs": [
    {
     "name": "stderr",
     "output_type": "stream",
     "text": [
      "/Users/apple-b/Desktop/work/python_env/general/lib/python3.9/site-packages/urllib3/__init__.py:34: NotOpenSSLWarning: urllib3 v2.0 only supports OpenSSL 1.1.1+, currently the 'ssl' module is compiled with 'LibreSSL 2.8.3'. See: https://github.com/urllib3/urllib3/issues/3020\n",
      "  warnings.warn(\n"
     ]
    }
   ],
   "source": [
    "import os\n",
    "import requests\n",
    "from bs4 import BeautifulSoup\n",
    "\n",
    "import pandas as pd\n",
    "import re\n",
    "from lxml import etree \n",
    "import json"
   ]
  },
  {
   "cell_type": "code",
   "execution_count": 2,
   "id": "6231a837",
   "metadata": {
    "ExecuteTime": {
     "end_time": "2023-11-23T04:37:17.134312Z",
     "start_time": "2023-11-23T04:37:17.125546Z"
    }
   },
   "outputs": [],
   "source": [
    "def auto_scrape(URL):\n",
    "#     URL = 'https://www.englishclub.com/vocabulary/animal-terms-easy-quiz.php'\n",
    "    page = requests.get(URL)\n",
    "    soup = BeautifulSoup(page.content, \"html.parser\")\n",
    "\n",
    "    quiz_name = soup.find(\"h1\").text\n",
    "    questions = soup.find_all(\"form\", class_=\"mcquiz\")[0]\n",
    "    choices = questions.find_all(\"input\")\n",
    "\n",
    "    # extract answer\n",
    "    answer_str = soup.find_all('script', {\"type\": \"text/javascript\", \"language\":\"JavaScript\"})[0].text\n",
    "    pattern = r'answers\\[\\d\\]=\"([^\"]+)\"'\n",
    "    matches = re.findall(pattern, answer_str)\n",
    "\n",
    "    list_qno = []\n",
    "    list_answers = []\n",
    "    count_q = 1\n",
    "    for match in matches:\n",
    "        list_answers.append(match)\n",
    "        list_qno.append(count_q)\n",
    "        count_q = count_q+1\n",
    "    df_answers = pd.DataFrame({'question_no':list_qno, 'answer':list_answers})\n",
    "    # df_answers\n",
    "\n",
    "    list_qno = []\n",
    "    list_questions = []\n",
    "    count_q = 1\n",
    "    for q in questions.find_all(\"p\")[:len(list_answers)]:\n",
    "        pattern = r'^\\d+\\.\\s*'\n",
    "        str_wo_num = re.sub(pattern, '', q.text)\n",
    "        list_questions.append(str_wo_num)\n",
    "        list_qno.append(count_q)\n",
    "        count_q = count_q+1\n",
    "\n",
    "    df_questions = pd.DataFrame({'question_no':list_qno, 'question':list_questions})\n",
    "    # df_questions\n",
    "\n",
    "    list_choices_qno = []\n",
    "    list_choices = []\n",
    "    list_choices_no = []\n",
    "    for i in range(1, len(list_answers)+1):\n",
    "\n",
    "        count_c = 1\n",
    "        for c in choices[:-3]:\n",
    "    #         print(c)\n",
    "            try:\n",
    "                if int(c.get('name')[1:])==i:\n",
    "                    list_choices_qno.append(i)\n",
    "                    list_choices_no.append(count_c)\n",
    "                    list_choices.append(c.get('value'))\n",
    "                    count_c = count_c+1\n",
    "            except:\n",
    "                pass\n",
    "\n",
    "\n",
    "    df_choice = pd.DataFrame({'question_no':list_choices_qno, 'choices_no':list_choices_no, 'choices':list_choices})\n",
    "\n",
    "    # df_choice.head()\n",
    "\n",
    "    df_quiz = pd.merge(df_questions, df_answers, on='question_no')\n",
    "    df_quiz = df_quiz.merge(df_choice, on='question_no')\n",
    "    # df_quiz.shape\n",
    "    # df_quiz.head()\n",
    "\n",
    "    dict_q = {'qname': quiz_name}\n",
    "    if max(df_quiz.choices_no)>2:\n",
    "        dict_q['qtype'] = 'multiple_choice'\n",
    "\n",
    "    dict_q['questions'] = {}\n",
    "    for i in df_quiz['question_no'].unique():\n",
    "        dict_qa = {}\n",
    "        question_info = df_quiz[df_quiz['question_no']==i]\n",
    "        question = question_info['question'].unique()[0]\n",
    "        answer = question_info['answer'].unique()[0]\n",
    "        choices = {}\n",
    "        for c in question_info['choices_no'].unique():\n",
    "            choices[str(c)] = df_quiz[(df_quiz['question_no']==i)&(df_quiz['choices_no']==c)]['choices'].values[0]\n",
    "\n",
    "        dict_qa = {'question': question, \n",
    "                   'answer': answer,\n",
    "                   'choices': choices}\n",
    "\n",
    "        dict_q['questions'][str(i)] = dict_qa\n",
    "\n",
    "    # dict_q\n",
    "\n",
    "    path_cur = os.getcwd()\n",
    "    path_mainp = \"/\".join(path_cur.split('/')[:-1])\n",
    "    path_dbquizzes = os.path.join(path_mainp, 'db_quizzes')\n",
    "\n",
    "    path_qname = \"-\".join(URL.split('/')[-2:])[:-4]\n",
    "    path_dbquizzes_filename = os.path.join(path_dbquizzes, path_qname)+'.json'\n",
    "    # path_dbquizzes_filename\n",
    "\n",
    "    # Convert and write JSON object to file\n",
    "    with open(path_dbquizzes_filename, \"w\") as outfile: \n",
    "        json.dump(dict_q, outfile)"
   ]
  },
  {
   "cell_type": "code",
   "execution_count": 5,
   "id": "8bc423b9",
   "metadata": {
    "ExecuteTime": {
     "end_time": "2023-11-23T04:38:11.875738Z",
     "start_time": "2023-11-23T04:38:07.898600Z"
    }
   },
   "outputs": [],
   "source": [
    "# https://www.englishclub.com/esl-quizzes/vocabulary/\n",
    "# Mixed Topics\n",
    "\n",
    "list_url = [\n",
    "'https://www.englishclub.com/vocabulary/animal-terms-quiz.php',\n",
    "'https://www.englishclub.com/vocabulary/festivals-christmas-quiz.php',\n",
    "'https://www.englishclub.com/vocabulary/computer-quiz.php',\n",
    "'https://www.englishclub.com/vocabulary/world-countries-nationality-quiz.php',\n",
    "'https://www.englishclub.com/vocabulary/criminals-quiz.php',\n",
    "'https://www.englishclub.com/vocabulary/family-quiz.php',\n",
    "'https://www.englishclub.com/vocabulary/nsew-quiz.php',\n",
    "'https://www.englishclub.com/vocabulary/numbers-quiz.php',\n",
    "# 'https://www.englishclub.com/speaking/small-talk_quiz.php',\n",
    "'https://www.englishclub.com/vocabulary/collocations-quiz-time.php',\n",
    "'https://www.englishclub.com/vocabulary/time-quiz.php',\n",
    "'https://www.englishclub.com/speaking/weather-vocabulary-quiz.php',\n",
    "'https://www.englishclub.com/vocabulary/weather-vocabulary-quiz.php',\n",
    "'https://www.englishclub.com/vocabulary/festivals-christmas-quiz.php'  \n",
    "]\n",
    "\n",
    "for iurl in list_url:\n",
    "    auto_scrape(iurl)"
   ]
  },
  {
   "cell_type": "code",
   "execution_count": null,
   "id": "c830283c",
   "metadata": {},
   "outputs": [],
   "source": [
    "# True False quiz\n",
    "'https://www.englishclub.com/speaking/small-talk_quiz.php'"
   ]
  },
  {
   "cell_type": "code",
   "execution_count": null,
   "id": "d4ec2a22",
   "metadata": {},
   "outputs": [],
   "source": []
  },
  {
   "cell_type": "code",
   "execution_count": null,
   "id": "759de645",
   "metadata": {},
   "outputs": [],
   "source": []
  },
  {
   "cell_type": "code",
   "execution_count": null,
   "id": "0977cffc",
   "metadata": {},
   "outputs": [],
   "source": []
  }
 ],
 "metadata": {
  "kernelspec": {
   "display_name": "Python 3 (ipykernel)",
   "language": "python",
   "name": "python3"
  },
  "language_info": {
   "codemirror_mode": {
    "name": "ipython",
    "version": 3
   },
   "file_extension": ".py",
   "mimetype": "text/x-python",
   "name": "python",
   "nbconvert_exporter": "python",
   "pygments_lexer": "ipython3",
   "version": "3.9.6"
  },
  "toc": {
   "base_numbering": 1,
   "nav_menu": {},
   "number_sections": true,
   "sideBar": true,
   "skip_h1_title": false,
   "title_cell": "Table of Contents",
   "title_sidebar": "Contents",
   "toc_cell": false,
   "toc_position": {
    "height": "calc(100% - 180px)",
    "left": "10px",
    "top": "150px",
    "width": "269.986px"
   },
   "toc_section_display": true,
   "toc_window_display": true
  }
 },
 "nbformat": 4,
 "nbformat_minor": 5
}
