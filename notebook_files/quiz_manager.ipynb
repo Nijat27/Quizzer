{
 "cells": [
  {
   "cell_type": "code",
   "execution_count": 1,
   "id": "7a7f1d46",
   "metadata": {
    "ExecuteTime": {
     "end_time": "2023-11-23T19:27:30.779163Z",
     "start_time": "2023-11-23T19:27:30.774409Z"
    }
   },
   "outputs": [],
   "source": [
    "# go to the main folder first as you are in the notebook_files folder\n",
    "# using cd .."
   ]
  },
  {
   "cell_type": "code",
   "execution_count": 2,
   "id": "ae0d5c67",
   "metadata": {
    "ExecuteTime": {
     "end_time": "2023-11-23T19:27:30.791307Z",
     "start_time": "2023-11-23T19:27:30.781372Z"
    }
   },
   "outputs": [
    {
     "name": "stdout",
     "output_type": "stream",
     "text": [
      "/Users/apple-b/Desktop/ubco_mds/data533/Quizzer\n"
     ]
    }
   ],
   "source": [
    "cd .."
   ]
  },
  {
   "cell_type": "code",
   "execution_count": 3,
   "id": "b951ba0c",
   "metadata": {
    "ExecuteTime": {
     "end_time": "2023-11-23T19:27:30.915675Z",
     "start_time": "2023-11-23T19:27:30.793214Z"
    }
   },
   "outputs": [
    {
     "name": "stdout",
     "output_type": "stream",
     "text": [
      "README.md       \u001b[34mdb_quizzes\u001b[m\u001b[m/     \u001b[34mquizzes\u001b[m\u001b[m/\r\n",
      "__init__.py     \u001b[34mnotebook_files\u001b[m\u001b[m/ \u001b[34mui_qmanager\u001b[m\u001b[m/\r\n"
     ]
    }
   ],
   "source": [
    "ls"
   ]
  },
  {
   "cell_type": "code",
   "execution_count": 4,
   "id": "f3b9fb08",
   "metadata": {
    "ExecuteTime": {
     "end_time": "2023-11-23T19:27:30.928208Z",
     "start_time": "2023-11-23T19:27:30.920909Z"
    }
   },
   "outputs": [],
   "source": [
    "import os\n",
    "from ui_qmanager.quiz_manager import QuizManager"
   ]
  },
  {
   "cell_type": "code",
   "execution_count": 5,
   "id": "adb0f010",
   "metadata": {
    "ExecuteTime": {
     "end_time": "2023-11-23T19:27:30.935500Z",
     "start_time": "2023-11-23T19:27:30.930723Z"
    }
   },
   "outputs": [],
   "source": [
    "qm = QuizManager()"
   ]
  },
  {
   "cell_type": "code",
   "execution_count": 6,
   "id": "c3227970",
   "metadata": {
    "ExecuteTime": {
     "end_time": "2023-11-23T19:27:30.959626Z",
     "start_time": "2023-11-23T19:27:30.952432Z"
    }
   },
   "outputs": [
    {
     "data": {
      "text/plain": [
       "['Computer Vocabulary Quiz',\n",
       " 'Time Vocabulary Quiz',\n",
       " 'Speaking About the Weather Quiz',\n",
       " 'Weather Vocabulary Quiz',\n",
       " 'Time Collocations Quiz',\n",
       " 'Animal Vocabulary Quiz',\n",
       " 'Small Talk Quiz',\n",
       " 'Countries and Nationality Quiz',\n",
       " 'Criminals Vocabulary Quiz',\n",
       " 'Family Vocabulary Quiz',\n",
       " 'North, South, East and West Quiz',\n",
       " 'Numbers Vocabulary Quiz',\n",
       " 'Christmas Vocabulary Quiz']"
      ]
     },
     "execution_count": 6,
     "metadata": {},
     "output_type": "execute_result"
    }
   ],
   "source": [
    "qm.get_all_quiz_name()"
   ]
  },
  {
   "cell_type": "code",
   "execution_count": null,
   "id": "ec2ad04a",
   "metadata": {},
   "outputs": [],
   "source": []
  },
  {
   "cell_type": "code",
   "execution_count": null,
   "id": "dc5ddfc3",
   "metadata": {},
   "outputs": [],
   "source": []
  },
  {
   "cell_type": "code",
   "execution_count": null,
   "id": "5962bc87",
   "metadata": {},
   "outputs": [],
   "source": []
  }
 ],
 "metadata": {
  "kernelspec": {
   "display_name": "Python 3 (ipykernel)",
   "language": "python",
   "name": "python3"
  },
  "language_info": {
   "codemirror_mode": {
    "name": "ipython",
    "version": 3
   },
   "file_extension": ".py",
   "mimetype": "text/x-python",
   "name": "python",
   "nbconvert_exporter": "python",
   "pygments_lexer": "ipython3",
   "version": "3.9.6"
  },
  "toc": {
   "base_numbering": 1,
   "nav_menu": {},
   "number_sections": true,
   "sideBar": true,
   "skip_h1_title": false,
   "title_cell": "Table of Contents",
   "title_sidebar": "Contents",
   "toc_cell": false,
   "toc_position": {},
   "toc_section_display": true,
   "toc_window_display": false
  }
 },
 "nbformat": 4,
 "nbformat_minor": 5
}
